{
 "cells": [
  {
   "cell_type": "code",
   "execution_count": 98,
   "id": "e1e0cc58",
   "metadata": {},
   "outputs": [],
   "source": [
    "# Data wrangling\n",
    "import numpy as np\n",
    "import pandas as pd\n",
    "from tqdm import tqdm"
   ]
  },
  {
   "cell_type": "code",
   "execution_count": 99,
   "id": "bd01044f",
   "metadata": {},
   "outputs": [],
   "source": [
    "# Data Visualization\n",
    "import matplotlib.pyplot as plt\n",
    "import plotly.express as px\n",
    "import plotly.graph_objects as go\n",
    "from plotly.subplots import make_subplots"
   ]
  },
  {
   "cell_type": "code",
   "execution_count": 100,
   "id": "5a7c4214",
   "metadata": {},
   "outputs": [],
   "source": [
    "# Data pre-processing\n",
    "from sklearn.preprocessing import StandardScaler"
   ]
  },
  {
   "cell_type": "code",
   "execution_count": 101,
   "id": "e4e66760",
   "metadata": {},
   "outputs": [],
   "source": [
    "# Data splitting\n",
    "from sklearn.model_selection import train_test_split"
   ]
  },
  {
   "cell_type": "code",
   "execution_count": 102,
   "id": "7db18b03",
   "metadata": {},
   "outputs": [],
   "source": [
    "# Machine learning Models\n",
    "from sklearn.linear_model import LogisticRegression\n",
    "from sklearn.decomposition import PCA"
   ]
  },
  {
   "cell_type": "code",
   "execution_count": 103,
   "id": "04728a5f",
   "metadata": {},
   "outputs": [],
   "source": [
    "# Evaluation metrics\n",
    "from sklearn.metrics import accuracy_score\n",
    "from sklearn.metrics import confusion_matrix, ConfusionMatrixDisplay\n",
    "from sklearn.metrics import roc_curve, auc"
   ]
  },
  {
   "cell_type": "code",
   "execution_count": 104,
   "id": "1722b7ce",
   "metadata": {},
   "outputs": [
    {
     "name": "stdout",
     "output_type": "stream",
     "text": [
      "Requirement already satisfied: kaleido in c:\\users\\dnilu\\anaconda3\\envs\\tensorflow_env\\lib\\site-packages (0.2.1)\n"
     ]
    }
   ],
   "source": [
    "#Installing dependencies\n",
    "!pip install -U kaleido"
   ]
  },
  {
   "cell_type": "code",
   "execution_count": 109,
   "id": "61bd5a62",
   "metadata": {},
   "outputs": [],
   "source": [
    "# Read dataset from csv file\n",
    "data =  pd.read_csv(\"Risk_Factor.csv\")"
   ]
  },
  {
   "cell_type": "code",
   "execution_count": 110,
   "id": "782e2565",
   "metadata": {},
   "outputs": [
    {
     "data": {
      "text/html": [
       "<div>\n",
       "<style scoped>\n",
       "    .dataframe tbody tr th:only-of-type {\n",
       "        vertical-align: middle;\n",
       "    }\n",
       "\n",
       "    .dataframe tbody tr th {\n",
       "        vertical-align: top;\n",
       "    }\n",
       "\n",
       "    .dataframe thead th {\n",
       "        text-align: right;\n",
       "    }\n",
       "</style>\n",
       "<table border=\"1\" class=\"dataframe\">\n",
       "  <thead>\n",
       "    <tr style=\"text-align: right;\">\n",
       "      <th></th>\n",
       "      <th>Age</th>\n",
       "      <th>Gender</th>\n",
       "      <th>Family History</th>\n",
       "      <th>Medical History</th>\n",
       "      <th>Cataract Status</th>\n",
       "      <th>Nausea</th>\n",
       "      <th>Redness in the eye</th>\n",
       "      <th>Eye pain</th>\n",
       "      <th>Tunnel vision</th>\n",
       "      <th>Halos around lights</th>\n",
       "      <th>Blurred vision</th>\n",
       "      <th>Vomiting</th>\n",
       "      <th>Target</th>\n",
       "    </tr>\n",
       "  </thead>\n",
       "  <tbody>\n",
       "    <tr>\n",
       "      <th>0</th>\n",
       "      <td>65</td>\n",
       "      <td>1</td>\n",
       "      <td>1</td>\n",
       "      <td>2</td>\n",
       "      <td>1</td>\n",
       "      <td>0</td>\n",
       "      <td>0</td>\n",
       "      <td>0</td>\n",
       "      <td>1</td>\n",
       "      <td>1</td>\n",
       "      <td>1</td>\n",
       "      <td>0</td>\n",
       "      <td>Glaucoma</td>\n",
       "    </tr>\n",
       "    <tr>\n",
       "      <th>1</th>\n",
       "      <td>40</td>\n",
       "      <td>1</td>\n",
       "      <td>1</td>\n",
       "      <td>4</td>\n",
       "      <td>1</td>\n",
       "      <td>1</td>\n",
       "      <td>0</td>\n",
       "      <td>0</td>\n",
       "      <td>0</td>\n",
       "      <td>0</td>\n",
       "      <td>1</td>\n",
       "      <td>1</td>\n",
       "      <td>Glaucoma</td>\n",
       "    </tr>\n",
       "    <tr>\n",
       "      <th>2</th>\n",
       "      <td>26</td>\n",
       "      <td>1</td>\n",
       "      <td>0</td>\n",
       "      <td>2</td>\n",
       "      <td>0</td>\n",
       "      <td>0</td>\n",
       "      <td>0</td>\n",
       "      <td>0</td>\n",
       "      <td>0</td>\n",
       "      <td>1</td>\n",
       "      <td>1</td>\n",
       "      <td>0</td>\n",
       "      <td>Glaucoma</td>\n",
       "    </tr>\n",
       "    <tr>\n",
       "      <th>3</th>\n",
       "      <td>83</td>\n",
       "      <td>0</td>\n",
       "      <td>0</td>\n",
       "      <td>4</td>\n",
       "      <td>1</td>\n",
       "      <td>0</td>\n",
       "      <td>1</td>\n",
       "      <td>1</td>\n",
       "      <td>1</td>\n",
       "      <td>1</td>\n",
       "      <td>0</td>\n",
       "      <td>0</td>\n",
       "      <td>Glaucoma</td>\n",
       "    </tr>\n",
       "    <tr>\n",
       "      <th>4</th>\n",
       "      <td>44</td>\n",
       "      <td>1</td>\n",
       "      <td>1</td>\n",
       "      <td>4</td>\n",
       "      <td>1</td>\n",
       "      <td>0</td>\n",
       "      <td>0</td>\n",
       "      <td>1</td>\n",
       "      <td>1</td>\n",
       "      <td>0</td>\n",
       "      <td>0</td>\n",
       "      <td>0</td>\n",
       "      <td>Glaucoma</td>\n",
       "    </tr>\n",
       "  </tbody>\n",
       "</table>\n",
       "</div>"
      ],
      "text/plain": [
       "   Age  Gender  Family History  Medical History  Cataract Status  Nausea  \\\n",
       "0   65       1               1                2                1       0   \n",
       "1   40       1               1                4                1       1   \n",
       "2   26       1               0                2                0       0   \n",
       "3   83       0               0                4                1       0   \n",
       "4   44       1               1                4                1       0   \n",
       "\n",
       "   Redness in the eye  Eye pain  Tunnel vision  Halos around lights  \\\n",
       "0                   0         0              1                    1   \n",
       "1                   0         0              0                    0   \n",
       "2                   0         0              0                    1   \n",
       "3                   1         1              1                    1   \n",
       "4                   0         1              1                    0   \n",
       "\n",
       "   Blurred vision  Vomiting    Target  \n",
       "0               1         0  Glaucoma  \n",
       "1               1         1  Glaucoma  \n",
       "2               1         0  Glaucoma  \n",
       "3               0         0  Glaucoma  \n",
       "4               0         0  Glaucoma  "
      ]
     },
     "execution_count": 110,
     "metadata": {},
     "output_type": "execute_result"
    }
   ],
   "source": [
    "data.head()"
   ]
  },
  {
   "cell_type": "code",
   "execution_count": 111,
   "id": "64eee540",
   "metadata": {},
   "outputs": [
    {
     "data": {
      "text/plain": [
       "(399, 13)"
      ]
     },
     "execution_count": 111,
     "metadata": {},
     "output_type": "execute_result"
    }
   ],
   "source": [
    "# shape of data\n",
    "data.shape"
   ]
  },
  {
   "cell_type": "code",
   "execution_count": 112,
   "id": "c15f6261",
   "metadata": {},
   "outputs": [
    {
     "name": "stdout",
     "output_type": "stream",
     "text": [
      "<class 'pandas.core.frame.DataFrame'>\n",
      "RangeIndex: 399 entries, 0 to 398\n",
      "Data columns (total 13 columns):\n",
      " #   Column               Non-Null Count  Dtype \n",
      "---  ------               --------------  ----- \n",
      " 0   Age                  399 non-null    int64 \n",
      " 1   Gender               399 non-null    int64 \n",
      " 2   Family History       399 non-null    int64 \n",
      " 3   Medical History      399 non-null    int64 \n",
      " 4   Cataract Status      399 non-null    int64 \n",
      " 5   Nausea               399 non-null    int64 \n",
      " 6   Redness in the eye   399 non-null    int64 \n",
      " 7   Eye pain             399 non-null    int64 \n",
      " 8   Tunnel vision        399 non-null    int64 \n",
      " 9   Halos around lights  399 non-null    int64 \n",
      " 10  Blurred vision       399 non-null    int64 \n",
      " 11  Vomiting             399 non-null    int64 \n",
      " 12  Target               399 non-null    object\n",
      "dtypes: int64(12), object(1)\n",
      "memory usage: 40.6+ KB\n"
     ]
    }
   ],
   "source": [
    "data.info()"
   ]
  },
  {
   "cell_type": "code",
   "execution_count": 113,
   "id": "f41f2e01",
   "metadata": {},
   "outputs": [
    {
     "data": {
      "text/html": [
       "<div>\n",
       "<style scoped>\n",
       "    .dataframe tbody tr th:only-of-type {\n",
       "        vertical-align: middle;\n",
       "    }\n",
       "\n",
       "    .dataframe tbody tr th {\n",
       "        vertical-align: top;\n",
       "    }\n",
       "\n",
       "    .dataframe thead th {\n",
       "        text-align: right;\n",
       "    }\n",
       "</style>\n",
       "<table border=\"1\" class=\"dataframe\">\n",
       "  <thead>\n",
       "    <tr style=\"text-align: right;\">\n",
       "      <th></th>\n",
       "      <th>Age</th>\n",
       "      <th>Gender</th>\n",
       "      <th>Family History</th>\n",
       "      <th>Medical History</th>\n",
       "      <th>Cataract Status</th>\n",
       "      <th>Nausea</th>\n",
       "      <th>Redness in the eye</th>\n",
       "      <th>Eye pain</th>\n",
       "      <th>Tunnel vision</th>\n",
       "      <th>Halos around lights</th>\n",
       "      <th>Blurred vision</th>\n",
       "      <th>Vomiting</th>\n",
       "      <th>Target</th>\n",
       "    </tr>\n",
       "  </thead>\n",
       "  <tbody>\n",
       "    <tr>\n",
       "      <th>count</th>\n",
       "      <td>399.000000</td>\n",
       "      <td>399.000000</td>\n",
       "      <td>399.000000</td>\n",
       "      <td>399.000000</td>\n",
       "      <td>399.000000</td>\n",
       "      <td>399.000000</td>\n",
       "      <td>399.000000</td>\n",
       "      <td>399.000000</td>\n",
       "      <td>399.000000</td>\n",
       "      <td>399.000000</td>\n",
       "      <td>399.000000</td>\n",
       "      <td>399.000000</td>\n",
       "      <td>399</td>\n",
       "    </tr>\n",
       "    <tr>\n",
       "      <th>unique</th>\n",
       "      <td>NaN</td>\n",
       "      <td>NaN</td>\n",
       "      <td>NaN</td>\n",
       "      <td>NaN</td>\n",
       "      <td>NaN</td>\n",
       "      <td>NaN</td>\n",
       "      <td>NaN</td>\n",
       "      <td>NaN</td>\n",
       "      <td>NaN</td>\n",
       "      <td>NaN</td>\n",
       "      <td>NaN</td>\n",
       "      <td>NaN</td>\n",
       "      <td>2</td>\n",
       "    </tr>\n",
       "    <tr>\n",
       "      <th>top</th>\n",
       "      <td>NaN</td>\n",
       "      <td>NaN</td>\n",
       "      <td>NaN</td>\n",
       "      <td>NaN</td>\n",
       "      <td>NaN</td>\n",
       "      <td>NaN</td>\n",
       "      <td>NaN</td>\n",
       "      <td>NaN</td>\n",
       "      <td>NaN</td>\n",
       "      <td>NaN</td>\n",
       "      <td>NaN</td>\n",
       "      <td>NaN</td>\n",
       "      <td>No Glaucoma</td>\n",
       "    </tr>\n",
       "    <tr>\n",
       "      <th>freq</th>\n",
       "      <td>NaN</td>\n",
       "      <td>NaN</td>\n",
       "      <td>NaN</td>\n",
       "      <td>NaN</td>\n",
       "      <td>NaN</td>\n",
       "      <td>NaN</td>\n",
       "      <td>NaN</td>\n",
       "      <td>NaN</td>\n",
       "      <td>NaN</td>\n",
       "      <td>NaN</td>\n",
       "      <td>NaN</td>\n",
       "      <td>NaN</td>\n",
       "      <td>200</td>\n",
       "    </tr>\n",
       "    <tr>\n",
       "      <th>mean</th>\n",
       "      <td>54.067669</td>\n",
       "      <td>0.513784</td>\n",
       "      <td>0.481203</td>\n",
       "      <td>2.521303</td>\n",
       "      <td>0.478697</td>\n",
       "      <td>0.528822</td>\n",
       "      <td>0.368421</td>\n",
       "      <td>0.416040</td>\n",
       "      <td>0.526316</td>\n",
       "      <td>0.360902</td>\n",
       "      <td>0.340852</td>\n",
       "      <td>0.335840</td>\n",
       "      <td>NaN</td>\n",
       "    </tr>\n",
       "    <tr>\n",
       "      <th>std</th>\n",
       "      <td>21.277018</td>\n",
       "      <td>0.500437</td>\n",
       "      <td>0.500274</td>\n",
       "      <td>1.127064</td>\n",
       "      <td>0.500173</td>\n",
       "      <td>0.499795</td>\n",
       "      <td>0.482982</td>\n",
       "      <td>0.493519</td>\n",
       "      <td>0.499934</td>\n",
       "      <td>0.480865</td>\n",
       "      <td>0.474591</td>\n",
       "      <td>0.472876</td>\n",
       "      <td>NaN</td>\n",
       "    </tr>\n",
       "    <tr>\n",
       "      <th>min</th>\n",
       "      <td>18.000000</td>\n",
       "      <td>0.000000</td>\n",
       "      <td>0.000000</td>\n",
       "      <td>1.000000</td>\n",
       "      <td>0.000000</td>\n",
       "      <td>0.000000</td>\n",
       "      <td>0.000000</td>\n",
       "      <td>0.000000</td>\n",
       "      <td>0.000000</td>\n",
       "      <td>0.000000</td>\n",
       "      <td>0.000000</td>\n",
       "      <td>0.000000</td>\n",
       "      <td>NaN</td>\n",
       "    </tr>\n",
       "    <tr>\n",
       "      <th>25%</th>\n",
       "      <td>35.000000</td>\n",
       "      <td>0.000000</td>\n",
       "      <td>0.000000</td>\n",
       "      <td>1.500000</td>\n",
       "      <td>0.000000</td>\n",
       "      <td>0.000000</td>\n",
       "      <td>0.000000</td>\n",
       "      <td>0.000000</td>\n",
       "      <td>0.000000</td>\n",
       "      <td>0.000000</td>\n",
       "      <td>0.000000</td>\n",
       "      <td>0.000000</td>\n",
       "      <td>NaN</td>\n",
       "    </tr>\n",
       "    <tr>\n",
       "      <th>50%</th>\n",
       "      <td>55.000000</td>\n",
       "      <td>1.000000</td>\n",
       "      <td>0.000000</td>\n",
       "      <td>3.000000</td>\n",
       "      <td>0.000000</td>\n",
       "      <td>1.000000</td>\n",
       "      <td>0.000000</td>\n",
       "      <td>0.000000</td>\n",
       "      <td>1.000000</td>\n",
       "      <td>0.000000</td>\n",
       "      <td>0.000000</td>\n",
       "      <td>0.000000</td>\n",
       "      <td>NaN</td>\n",
       "    </tr>\n",
       "    <tr>\n",
       "      <th>75%</th>\n",
       "      <td>72.000000</td>\n",
       "      <td>1.000000</td>\n",
       "      <td>1.000000</td>\n",
       "      <td>4.000000</td>\n",
       "      <td>1.000000</td>\n",
       "      <td>1.000000</td>\n",
       "      <td>1.000000</td>\n",
       "      <td>1.000000</td>\n",
       "      <td>1.000000</td>\n",
       "      <td>1.000000</td>\n",
       "      <td>1.000000</td>\n",
       "      <td>1.000000</td>\n",
       "      <td>NaN</td>\n",
       "    </tr>\n",
       "    <tr>\n",
       "      <th>max</th>\n",
       "      <td>90.000000</td>\n",
       "      <td>1.000000</td>\n",
       "      <td>1.000000</td>\n",
       "      <td>4.000000</td>\n",
       "      <td>1.000000</td>\n",
       "      <td>1.000000</td>\n",
       "      <td>1.000000</td>\n",
       "      <td>1.000000</td>\n",
       "      <td>1.000000</td>\n",
       "      <td>1.000000</td>\n",
       "      <td>1.000000</td>\n",
       "      <td>1.000000</td>\n",
       "      <td>NaN</td>\n",
       "    </tr>\n",
       "  </tbody>\n",
       "</table>\n",
       "</div>"
      ],
      "text/plain": [
       "               Age      Gender  Family History  Medical History  \\\n",
       "count   399.000000  399.000000      399.000000       399.000000   \n",
       "unique         NaN         NaN             NaN              NaN   \n",
       "top            NaN         NaN             NaN              NaN   \n",
       "freq           NaN         NaN             NaN              NaN   \n",
       "mean     54.067669    0.513784        0.481203         2.521303   \n",
       "std      21.277018    0.500437        0.500274         1.127064   \n",
       "min      18.000000    0.000000        0.000000         1.000000   \n",
       "25%      35.000000    0.000000        0.000000         1.500000   \n",
       "50%      55.000000    1.000000        0.000000         3.000000   \n",
       "75%      72.000000    1.000000        1.000000         4.000000   \n",
       "max      90.000000    1.000000        1.000000         4.000000   \n",
       "\n",
       "        Cataract Status      Nausea  Redness in the eye    Eye pain  \\\n",
       "count        399.000000  399.000000          399.000000  399.000000   \n",
       "unique              NaN         NaN                 NaN         NaN   \n",
       "top                 NaN         NaN                 NaN         NaN   \n",
       "freq                NaN         NaN                 NaN         NaN   \n",
       "mean           0.478697    0.528822            0.368421    0.416040   \n",
       "std            0.500173    0.499795            0.482982    0.493519   \n",
       "min            0.000000    0.000000            0.000000    0.000000   \n",
       "25%            0.000000    0.000000            0.000000    0.000000   \n",
       "50%            0.000000    1.000000            0.000000    0.000000   \n",
       "75%            1.000000    1.000000            1.000000    1.000000   \n",
       "max            1.000000    1.000000            1.000000    1.000000   \n",
       "\n",
       "        Tunnel vision  Halos around lights  Blurred vision    Vomiting  \\\n",
       "count      399.000000           399.000000      399.000000  399.000000   \n",
       "unique            NaN                  NaN             NaN         NaN   \n",
       "top               NaN                  NaN             NaN         NaN   \n",
       "freq              NaN                  NaN             NaN         NaN   \n",
       "mean         0.526316             0.360902        0.340852    0.335840   \n",
       "std          0.499934             0.480865        0.474591    0.472876   \n",
       "min          0.000000             0.000000        0.000000    0.000000   \n",
       "25%          0.000000             0.000000        0.000000    0.000000   \n",
       "50%          1.000000             0.000000        0.000000    0.000000   \n",
       "75%          1.000000             1.000000        1.000000    1.000000   \n",
       "max          1.000000             1.000000        1.000000    1.000000   \n",
       "\n",
       "             Target  \n",
       "count           399  \n",
       "unique            2  \n",
       "top     No Glaucoma  \n",
       "freq            200  \n",
       "mean            NaN  \n",
       "std             NaN  \n",
       "min             NaN  \n",
       "25%             NaN  \n",
       "50%             NaN  \n",
       "75%             NaN  \n",
       "max             NaN  "
      ]
     },
     "execution_count": 113,
     "metadata": {},
     "output_type": "execute_result"
    }
   ],
   "source": [
    "# descriptive analysis\n",
    "pd.set_option('display.max_columns', None)\n",
    "data.describe(include = 'all')"
   ]
  },
  {
   "cell_type": "code",
   "execution_count": 114,
   "id": "ab7196cc",
   "metadata": {},
   "outputs": [
    {
     "data": {
      "text/plain": [
       "0"
      ]
     },
     "execution_count": 114,
     "metadata": {},
     "output_type": "execute_result"
    }
   ],
   "source": [
    "#Checking for null values\n",
    "data.isnull().any().sum()"
   ]
  },
  {
   "cell_type": "code",
   "execution_count": 115,
   "id": "b82c064a",
   "metadata": {},
   "outputs": [],
   "source": [
    "# Create a copy for exploratory data analysis\n",
    "data_viz = data.copy()"
   ]
  },
  {
   "cell_type": "code",
   "execution_count": 116,
   "id": "416cc97c",
   "metadata": {},
   "outputs": [
    {
     "data": {
      "text/plain": [
       "array(['Glaucoma', 'No Glaucoma'], dtype=object)"
      ]
     },
     "execution_count": 116,
     "metadata": {},
     "output_type": "execute_result"
    }
   ],
   "source": [
    "data['Target'].unique()"
   ]
  },
  {
   "cell_type": "code",
   "execution_count": 117,
   "id": "e4adcb83",
   "metadata": {},
   "outputs": [
    {
     "data": {
      "image/svg+xml": [
       "<svg class=\"main-svg\" xmlns=\"http://www.w3.org/2000/svg\" xmlns:xlink=\"http://www.w3.org/1999/xlink\" width=\"800\" height=\"400\" style=\"\" viewBox=\"0 0 800 400\"><rect x=\"0\" y=\"0\" width=\"800\" height=\"400\" style=\"fill: rgb(255, 255, 255); fill-opacity: 1;\"/><defs id=\"defs-6c6b1f\"><g class=\"clips\"/><g class=\"gradients\"/><g class=\"patterns\"/></defs><g class=\"bglayer\"/><g class=\"layer-below\"><g class=\"imagelayer\"/><g class=\"shapelayer\"/></g><g class=\"cartesianlayer\"/><g class=\"polarlayer\"/><g class=\"smithlayer\"/><g class=\"ternarylayer\"/><g class=\"geolayer\"/><g class=\"funnelarealayer\"/><g class=\"pielayer\"><g class=\"trace\" stroke-linejoin=\"round\" style=\"opacity: 1;\"><g class=\"slice\"><path class=\"surface\" d=\"M400,190l0,-130a130,130 0 1 1 -1.023565977795205,259.9959703709661Z\" style=\"pointer-events: none; fill: rgb(0, 128, 128); fill-opacity: 1; stroke-width: 0; stroke: rgb(68, 68, 68); stroke-opacity: 1;\"/><g class=\"slicetext\"><text data-notex=\"1\" class=\"slicetext\" transform=\"translate(464.9994962944191,186.95120597744838)\" text-anchor=\"middle\" x=\"0\" y=\"0\" style=\"font-family: 'Open Sans', verdana, arial, sans-serif; font-size: 12px; fill: rgb(255, 255, 255); fill-opacity: 1; white-space: pre;\"><tspan class=\"line\" dy=\"0em\" x=\"0\" y=\"0\">No Glaucoma</tspan><tspan class=\"line\" dy=\"1.3em\" x=\"0\" y=\"0\">50.1%</tspan></text></g></g><g class=\"slice\"><path class=\"surface\" d=\"M400,190l-1.0235659777952368,129.99597037096612a130,130 0 0 1 1.0235659777952368,-259.9959703709661Z\" style=\"pointer-events: none; fill: rgb(218, 165, 32); fill-opacity: 1; stroke-width: 0; stroke: rgb(68, 68, 68); stroke-opacity: 1;\"/><g class=\"slicetext\"><text data-notex=\"1\" class=\"slicetext\" transform=\"translate(335.0002518537663,186.43941803104798)\" text-anchor=\"middle\" x=\"0\" y=\"0\" style=\"font-family: 'Open Sans', verdana, arial, sans-serif; font-size: 12px; fill: rgb(68, 68, 68); fill-opacity: 1; white-space: pre;\"><tspan class=\"line\" dy=\"0em\" x=\"0\" y=\"0\">Glaucoma</tspan><tspan class=\"line\" dy=\"1.3em\" x=\"0\" y=\"0\">49.9%</tspan></text></g></g></g></g><g class=\"iciclelayer\"/><g class=\"treemaplayer\"/><g class=\"sunburstlayer\"/><g class=\"glimages\"/><defs id=\"topdefs-6c6b1f\"><g class=\"clips\"/></defs><g class=\"layer-above\"><g class=\"imagelayer\"/><g class=\"shapelayer\"/></g><g class=\"infolayer\"><g class=\"g-gtitle\"><text class=\"gtitle\" x=\"40\" y=\"30\" text-anchor=\"start\" dy=\"0em\" style=\"font-family: 'Open Sans', verdana, arial, sans-serif; font-size: 17px; fill: rgb(42, 63, 95); opacity: 1; font-weight: normal; white-space: pre;\">Distribution of Target</text></g></g></svg>"
      ]
     },
     "metadata": {},
     "output_type": "display_data"
    }
   ],
   "source": [
    "# Distribution of Target feature\n",
    "fig = px.pie(values= data_viz['Target'].value_counts(),\n",
    "             names= data_viz['Target'].value_counts().index.to_list())\n",
    "\n",
    "fig.update_traces(textposition='inside', textinfo='percent+label',\n",
    "                  marker=dict(colors=['teal', 'goldenrod', 'slateblue']))\n",
    "\n",
    "fig.update_layout(showlegend = False, height=400, width=800,\n",
    "                  title='Distribution of Target')\n",
    "fig.write_image('fig.svg', engine='kaleido')\n",
    "fig.show('svg')"
   ]
  },
  {
   "cell_type": "code",
   "execution_count": 120,
   "id": "233efad9",
   "metadata": {},
   "outputs": [
    {
     "data": {
      "image/svg+xml": [
       "<svg class=\"main-svg\" xmlns=\"http://www.w3.org/2000/svg\" xmlns:xlink=\"http://www.w3.org/1999/xlink\" width=\"800\" height=\"500\" style=\"\" viewBox=\"0 0 800 500\"><rect x=\"0\" y=\"0\" width=\"800\" height=\"500\" style=\"fill: rgb(255, 255, 255); fill-opacity: 1;\"/><defs id=\"defs-07dbbc\"><g class=\"clips\"><clipPath id=\"clip07dbbcxyplot\" class=\"plotclip\"><rect width=\"575\" height=\"360\"/></clipPath><clipPath class=\"axesclip\" id=\"clip07dbbcx\"><rect x=\"80\" y=\"0\" width=\"575\" height=\"500\"/></clipPath><clipPath class=\"axesclip\" id=\"clip07dbbcy\"><rect x=\"0\" y=\"60\" width=\"800\" height=\"360\"/></clipPath><clipPath class=\"axesclip\" id=\"clip07dbbcxy\"><rect x=\"80\" y=\"60\" width=\"575\" height=\"360\"/></clipPath></g><g class=\"gradients\"/><g class=\"patterns\"/></defs><g class=\"bglayer\"><rect class=\"bg\" x=\"80\" y=\"60\" width=\"575\" height=\"360\" style=\"fill: rgb(229, 236, 246); fill-opacity: 1; stroke-width: 0;\"/></g><g class=\"layer-below\"><g class=\"imagelayer\"/><g class=\"shapelayer\"/></g><g class=\"cartesianlayer\"><g class=\"subplot xy\"><g class=\"layer-subplot\"><g class=\"shapelayer\"/><g class=\"imagelayer\"/></g><g class=\"minor-gridlayer\"><g class=\"x\"/><g class=\"y\"/></g><g class=\"gridlayer\"><g class=\"x\"/><g class=\"y\"><path class=\"ygrid crisp\" transform=\"translate(0,334.5)\" d=\"M80,0h575\" style=\"stroke: rgb(255, 255, 255); stroke-opacity: 1; stroke-width: 1px;\"/><path class=\"ygrid crisp\" transform=\"translate(0,249)\" d=\"M80,0h575\" style=\"stroke: rgb(255, 255, 255); stroke-opacity: 1; stroke-width: 1px;\"/><path class=\"ygrid crisp\" transform=\"translate(0,163.5)\" d=\"M80,0h575\" style=\"stroke: rgb(255, 255, 255); stroke-opacity: 1; stroke-width: 1px;\"/><path class=\"ygrid crisp\" transform=\"translate(0,78)\" d=\"M80,0h575\" style=\"stroke: rgb(255, 255, 255); stroke-opacity: 1; stroke-width: 1px;\"/></g></g><g class=\"zerolinelayer\"><path class=\"yzl zl crisp\" transform=\"translate(0,420)\" d=\"M80,0h575\" style=\"stroke: rgb(255, 255, 255); stroke-opacity: 1; stroke-width: 2px;\"/></g><path class=\"xlines-below\"/><path class=\"ylines-below\"/><g class=\"overlines-below\"/><g class=\"xaxislayer-below\"/><g class=\"yaxislayer-below\"/><g class=\"overaxes-below\"/><g class=\"plot\" transform=\"translate(80,60)\" clip-path=\"url(#clip07dbbcxyplot)\"><g class=\"barlayer mlayer\"><g class=\"trace bars\" shape-rendering=\"crispEdges\" style=\"opacity: 1;\"><g class=\"points\"><g class=\"point\"><path d=\"M0,360V240.3H35.94V360Z\" style=\"vector-effect: none; opacity: 0.75; stroke-width: 0px; fill: rgb(51, 102, 204); fill-opacity: 1;\"/></g><g class=\"point\"><path d=\"M35.94,360V103.5H71.88V360Z\" style=\"vector-effect: none; opacity: 0.75; stroke-width: 0px; fill: rgb(51, 102, 204); fill-opacity: 1;\"/></g><g class=\"point\"><path d=\"M71.88,360V223.2H107.81V360Z\" style=\"vector-effect: none; opacity: 0.75; stroke-width: 0px; fill: rgb(51, 102, 204); fill-opacity: 1;\"/></g><g class=\"point\"><path d=\"M107.81,360V86.4H143.75V360Z\" style=\"vector-effect: none; opacity: 0.75; stroke-width: 0px; fill: rgb(51, 102, 204); fill-opacity: 1;\"/></g><g class=\"point\"><path d=\"M143.75,360V171.9H179.69V360Z\" style=\"vector-effect: none; opacity: 0.75; stroke-width: 0px; fill: rgb(51, 102, 204); fill-opacity: 1;\"/></g><g class=\"point\"><path d=\"M179.69,360V171.9H215.63V360Z\" style=\"vector-effect: none; opacity: 0.75; stroke-width: 0px; fill: rgb(51, 102, 204); fill-opacity: 1;\"/></g><g class=\"point\"><path d=\"M215.63,360V154.8H251.56V360Z\" style=\"vector-effect: none; opacity: 0.75; stroke-width: 0px; fill: rgb(51, 102, 204); fill-opacity: 1;\"/></g><g class=\"point\"><path d=\"M251.56,360V137.7H287.5V360Z\" style=\"vector-effect: none; opacity: 0.75; stroke-width: 0px; fill: rgb(51, 102, 204); fill-opacity: 1;\"/></g><g class=\"point\"><path d=\"M287.5,360V103.5H323.44V360Z\" style=\"vector-effect: none; opacity: 0.75; stroke-width: 0px; fill: rgb(51, 102, 204); fill-opacity: 1;\"/></g><g class=\"point\"><path d=\"M323.44,360V103.5H359.38V360Z\" style=\"vector-effect: none; opacity: 0.75; stroke-width: 0px; fill: rgb(51, 102, 204); fill-opacity: 1;\"/></g><g class=\"point\"><path d=\"M359.38,360V52.2H395.31V360Z\" style=\"vector-effect: none; opacity: 0.75; stroke-width: 0px; fill: rgb(51, 102, 204); fill-opacity: 1;\"/></g><g class=\"point\"><path d=\"M395.31,360V206.1H431.25V360Z\" style=\"vector-effect: none; opacity: 0.75; stroke-width: 0px; fill: rgb(51, 102, 204); fill-opacity: 1;\"/></g><g class=\"point\"><path d=\"M431.25,360V35.1H467.19V360Z\" style=\"vector-effect: none; opacity: 0.75; stroke-width: 0px; fill: rgb(51, 102, 204); fill-opacity: 1;\"/></g><g class=\"point\"><path d=\"M467.19,360V137.7H503.13V360Z\" style=\"vector-effect: none; opacity: 0.75; stroke-width: 0px; fill: rgb(51, 102, 204); fill-opacity: 1;\"/></g><g class=\"point\"><path d=\"M503.13,360V120.6H539.06V360Z\" style=\"vector-effect: none; opacity: 0.75; stroke-width: 0px; fill: rgb(51, 102, 204); fill-opacity: 1;\"/></g><g class=\"point\"><path d=\"M539.06,360V308.7H575V360Z\" style=\"vector-effect: none; opacity: 0.75; stroke-width: 0px; fill: rgb(51, 102, 204); fill-opacity: 1;\"/></g></g></g><g class=\"trace bars\" shape-rendering=\"crispEdges\" style=\"opacity: 1;\"><g class=\"points\"><g class=\"point\"><path d=\"M0,360V240.3H35.94V360Z\" style=\"vector-effect: none; opacity: 0.75; stroke-width: 0px; fill: rgb(220, 57, 18); fill-opacity: 1;\"/></g><g class=\"point\"><path d=\"M35.94,360V120.6H71.88V360Z\" style=\"vector-effect: none; opacity: 0.75; stroke-width: 0px; fill: rgb(220, 57, 18); fill-opacity: 1;\"/></g><g class=\"point\"><path d=\"M71.88,360V120.6H107.81V360Z\" style=\"vector-effect: none; opacity: 0.75; stroke-width: 0px; fill: rgb(220, 57, 18); fill-opacity: 1;\"/></g><g class=\"point\"><path d=\"M107.81,360V120.6H143.75V360Z\" style=\"vector-effect: none; opacity: 0.75; stroke-width: 0px; fill: rgb(220, 57, 18); fill-opacity: 1;\"/></g><g class=\"point\"><path d=\"M143.75,360V103.5H179.69V360Z\" style=\"vector-effect: none; opacity: 0.75; stroke-width: 0px; fill: rgb(220, 57, 18); fill-opacity: 1;\"/></g><g class=\"point\"><path d=\"M179.69,360V103.5H215.63V360Z\" style=\"vector-effect: none; opacity: 0.75; stroke-width: 0px; fill: rgb(220, 57, 18); fill-opacity: 1;\"/></g><g class=\"point\"><path d=\"M215.63,360V103.5H251.56V360Z\" style=\"vector-effect: none; opacity: 0.75; stroke-width: 0px; fill: rgb(220, 57, 18); fill-opacity: 1;\"/></g><g class=\"point\"><path d=\"M251.56,360V171.9H287.5V360Z\" style=\"vector-effect: none; opacity: 0.75; stroke-width: 0px; fill: rgb(220, 57, 18); fill-opacity: 1;\"/></g><g class=\"point\"><path d=\"M287.5,360V171.9H323.44V360Z\" style=\"vector-effect: none; opacity: 0.75; stroke-width: 0px; fill: rgb(220, 57, 18); fill-opacity: 1;\"/></g><g class=\"point\"><path d=\"M323.44,360V18H359.38V360Z\" style=\"vector-effect: none; opacity: 0.75; stroke-width: 0px; fill: rgb(220, 57, 18); fill-opacity: 1;\"/></g><g class=\"point\"><path d=\"M359.38,360V171.9H395.31V360Z\" style=\"vector-effect: none; opacity: 0.75; stroke-width: 0px; fill: rgb(220, 57, 18); fill-opacity: 1;\"/></g><g class=\"point\"><path d=\"M395.31,360V120.6H431.25V360Z\" style=\"vector-effect: none; opacity: 0.75; stroke-width: 0px; fill: rgb(220, 57, 18); fill-opacity: 1;\"/></g><g class=\"point\"><path d=\"M431.25,360V189H467.19V360Z\" style=\"vector-effect: none; opacity: 0.75; stroke-width: 0px; fill: rgb(220, 57, 18); fill-opacity: 1;\"/></g><g class=\"point\"><path d=\"M467.19,360V171.9H503.13V360Z\" style=\"vector-effect: none; opacity: 0.75; stroke-width: 0px; fill: rgb(220, 57, 18); fill-opacity: 1;\"/></g><g class=\"point\"><path d=\"M503.13,360V69.3H539.06V360Z\" style=\"vector-effect: none; opacity: 0.75; stroke-width: 0px; fill: rgb(220, 57, 18); fill-opacity: 1;\"/></g><g class=\"point\"><path d=\"M539.06,360V342.9H575V360Z\" style=\"vector-effect: none; opacity: 0.75; stroke-width: 0px; fill: rgb(220, 57, 18); fill-opacity: 1;\"/></g></g></g></g></g><g class=\"overplot\"/><path class=\"xlines-above crisp\" d=\"M0,0\" style=\"fill: none;\"/><path class=\"ylines-above crisp\" d=\"M0,0\" style=\"fill: none;\"/><g class=\"overlines-above\"/><g class=\"xaxislayer-above\"><g class=\"xtick\"><text text-anchor=\"middle\" x=\"0\" y=\"433\" transform=\"translate(119.53,0)\" style=\"font-family: 'Open Sans', verdana, arial, sans-serif; font-size: 12px; fill: rgb(42, 63, 95); fill-opacity: 1; white-space: pre; opacity: 1;\">20</text></g><g class=\"xtick\"><text text-anchor=\"middle\" x=\"0\" y=\"433\" style=\"font-family: 'Open Sans', verdana, arial, sans-serif; font-size: 12px; fill: rgb(42, 63, 95); fill-opacity: 1; white-space: pre; opacity: 1;\" transform=\"translate(191.41,0)\">30</text></g><g class=\"xtick\"><text text-anchor=\"middle\" x=\"0\" y=\"433\" style=\"font-family: 'Open Sans', verdana, arial, sans-serif; font-size: 12px; fill: rgb(42, 63, 95); fill-opacity: 1; white-space: pre; opacity: 1;\" transform=\"translate(263.28,0)\">40</text></g><g class=\"xtick\"><text text-anchor=\"middle\" x=\"0\" y=\"433\" style=\"font-family: 'Open Sans', verdana, arial, sans-serif; font-size: 12px; fill: rgb(42, 63, 95); fill-opacity: 1; white-space: pre; opacity: 1;\" transform=\"translate(335.15999999999997,0)\">50</text></g><g class=\"xtick\"><text text-anchor=\"middle\" x=\"0\" y=\"433\" style=\"font-family: 'Open Sans', verdana, arial, sans-serif; font-size: 12px; fill: rgb(42, 63, 95); fill-opacity: 1; white-space: pre; opacity: 1;\" transform=\"translate(407.03,0)\">60</text></g><g class=\"xtick\"><text text-anchor=\"middle\" x=\"0\" y=\"433\" style=\"font-family: 'Open Sans', verdana, arial, sans-serif; font-size: 12px; fill: rgb(42, 63, 95); fill-opacity: 1; white-space: pre; opacity: 1;\" transform=\"translate(478.91,0)\">70</text></g><g class=\"xtick\"><text text-anchor=\"middle\" x=\"0\" y=\"433\" style=\"font-family: 'Open Sans', verdana, arial, sans-serif; font-size: 12px; fill: rgb(42, 63, 95); fill-opacity: 1; white-space: pre; opacity: 1;\" transform=\"translate(550.78,0)\">80</text></g><g class=\"xtick\"><text text-anchor=\"middle\" x=\"0\" y=\"433\" style=\"font-family: 'Open Sans', verdana, arial, sans-serif; font-size: 12px; fill: rgb(42, 63, 95); fill-opacity: 1; white-space: pre; opacity: 1;\" transform=\"translate(622.66,0)\">90</text></g></g><g class=\"yaxislayer-above\"><g class=\"ytick\"><text text-anchor=\"end\" x=\"79\" y=\"4.199999999999999\" transform=\"translate(0,420)\" style=\"font-family: 'Open Sans', verdana, arial, sans-serif; font-size: 12px; fill: rgb(42, 63, 95); fill-opacity: 1; white-space: pre; opacity: 1;\">0</text></g><g class=\"ytick\"><text text-anchor=\"end\" x=\"79\" y=\"4.199999999999999\" style=\"font-family: 'Open Sans', verdana, arial, sans-serif; font-size: 12px; fill: rgb(42, 63, 95); fill-opacity: 1; white-space: pre; opacity: 1;\" transform=\"translate(0,334.5)\">5</text></g><g class=\"ytick\"><text text-anchor=\"end\" x=\"79\" y=\"4.199999999999999\" style=\"font-family: 'Open Sans', verdana, arial, sans-serif; font-size: 12px; fill: rgb(42, 63, 95); fill-opacity: 1; white-space: pre; opacity: 1;\" transform=\"translate(0,249)\">10</text></g><g class=\"ytick\"><text text-anchor=\"end\" x=\"79\" y=\"4.199999999999999\" style=\"font-family: 'Open Sans', verdana, arial, sans-serif; font-size: 12px; fill: rgb(42, 63, 95); fill-opacity: 1; white-space: pre; opacity: 1;\" transform=\"translate(0,163.5)\">15</text></g><g class=\"ytick\"><text text-anchor=\"end\" x=\"79\" y=\"4.199999999999999\" style=\"font-family: 'Open Sans', verdana, arial, sans-serif; font-size: 12px; fill: rgb(42, 63, 95); fill-opacity: 1; white-space: pre; opacity: 1;\" transform=\"translate(0,78)\">20</text></g></g><g class=\"overaxes-above\"/></g></g><g class=\"polarlayer\"/><g class=\"smithlayer\"/><g class=\"ternarylayer\"/><g class=\"geolayer\"/><g class=\"funnelarealayer\"/><g class=\"pielayer\"/><g class=\"iciclelayer\"/><g class=\"treemaplayer\"/><g class=\"sunburstlayer\"/><g class=\"glimages\"/><defs id=\"topdefs-07dbbc\"><g class=\"clips\"/><clipPath id=\"legend07dbbc\"><rect width=\"122\" height=\"67\" x=\"0\" y=\"0\"/></clipPath></defs><g class=\"layer-above\"><g class=\"imagelayer\"/><g class=\"shapelayer\"/></g><g class=\"infolayer\"><g class=\"legend\" pointer-events=\"all\" transform=\"translate(666.5,60)\"><rect class=\"bg\" shape-rendering=\"crispEdges\" width=\"122\" height=\"67\" x=\"0\" y=\"0\" style=\"stroke: rgb(68, 68, 68); stroke-opacity: 1; fill: rgb(255, 255, 255); fill-opacity: 1; stroke-width: 0px;\"/><g class=\"scrollbox\" transform=\"\" clip-path=\"url(#legend07dbbc)\"><text class=\"legendtitletext\" text-anchor=\"start\" x=\"2\" y=\"18.2\" style=\"font-family: 'Open Sans', verdana, arial, sans-serif; font-size: 14px; fill: rgb(42, 63, 95); fill-opacity: 1; white-space: pre;\">Target</text><g class=\"groups\" transform=\"\"><g class=\"traces\" transform=\"translate(0,32.7)\" style=\"opacity: 1;\"><text class=\"legendtext\" text-anchor=\"start\" x=\"40\" y=\"4.680000000000001\" style=\"font-family: 'Open Sans', verdana, arial, sans-serif; font-size: 12px; fill: rgb(42, 63, 95); fill-opacity: 1; white-space: pre;\">Glaucoma</text><g class=\"layers\" style=\"opacity: 1;\"><g class=\"legendfill\"/><g class=\"legendlines\"/><g class=\"legendsymbols\"><g class=\"legendpoints\"><path class=\"legendundefined\" d=\"M6,6H-6V-6H6Z\" transform=\"translate(20,0)\" style=\"stroke-width: 0px; fill: rgb(51, 102, 204); fill-opacity: 1;\"/></g></g></g><rect class=\"legendtoggle\" x=\"0\" y=\"-9.5\" width=\"116.03125\" height=\"19\" style=\"fill: rgb(0, 0, 0); fill-opacity: 0;\"/></g></g><g class=\"groups\" transform=\"\"><g class=\"traces\" transform=\"translate(0,51.7)\" style=\"opacity: 1;\"><text class=\"legendtext\" text-anchor=\"start\" x=\"40\" y=\"4.680000000000001\" style=\"font-family: 'Open Sans', verdana, arial, sans-serif; font-size: 12px; fill: rgb(42, 63, 95); fill-opacity: 1; white-space: pre;\">No Glaucoma</text><g class=\"layers\" style=\"opacity: 1;\"><g class=\"legendfill\"/><g class=\"legendlines\"/><g class=\"legendsymbols\"><g class=\"legendpoints\"><path class=\"legendundefined\" d=\"M6,6H-6V-6H6Z\" transform=\"translate(20,0)\" style=\"stroke-width: 0px; fill: rgb(220, 57, 18); fill-opacity: 1;\"/></g></g></g><rect class=\"legendtoggle\" x=\"0\" y=\"-9.5\" width=\"116.03125\" height=\"19\" style=\"fill: rgb(0, 0, 0); fill-opacity: 0;\"/></g></g></g><rect class=\"scrollbar\" rx=\"20\" ry=\"3\" width=\"0\" height=\"0\" x=\"0\" y=\"0\" style=\"fill: rgb(128, 139, 164); fill-opacity: 1;\"/></g><g class=\"g-gtitle\"><text class=\"gtitle\" x=\"40\" y=\"30\" text-anchor=\"start\" dy=\"0em\" style=\"font-family: 'Open Sans', verdana, arial, sans-serif; font-size: 17px; fill: rgb(42, 63, 95); opacity: 1; font-weight: normal; white-space: pre;\">Age distribution of students</text></g><g class=\"g-xtitle\"><text class=\"xtitle\" x=\"367.5\" y=\"461.3\" text-anchor=\"middle\" style=\"font-family: 'Open Sans', verdana, arial, sans-serif; font-size: 14px; fill: rgb(42, 63, 95); opacity: 1; font-weight: normal; white-space: pre;\">Age</text></g><g class=\"g-ytitle\"><text class=\"ytitle\" transform=\"rotate(-90,40.965625,240)\" x=\"40.965625\" y=\"240\" text-anchor=\"middle\" style=\"font-family: 'Open Sans', verdana, arial, sans-serif; font-size: 14px; fill: rgb(42, 63, 95); opacity: 1; font-weight: normal; white-space: pre;\">count</text></g></g></svg>"
      ]
     },
     "metadata": {},
     "output_type": "display_data"
    }
   ],
   "source": [
    "# Histogram for Age\n",
    "fig = px.histogram(data_viz, x='Age', color = 'Target',\n",
    "                   opacity = 0.75, barmode = 'overlay',\n",
    "                    width = 800, height = 500, color_discrete_sequence=px.colors.qualitative.G10)\n",
    "fig.update_layout(title='Age distribution of patients')\n",
    "fig.write_image('fig.svg', engine='kaleido')\n",
    "fig.show('svg')"
   ]
  },
  {
   "cell_type": "code",
   "execution_count": 122,
   "id": "8c3d81d4",
   "metadata": {},
   "outputs": [],
   "source": [
    "# Change gender from numerical to catgorical\n",
    "data_viz['Gender'] = data_viz['Gender'].map({1:'Male', 0:'Female'})"
   ]
  },
  {
   "cell_type": "code",
   "execution_count": 123,
   "id": "c2ee9677",
   "metadata": {},
   "outputs": [
    {
     "data": {
      "image/svg+xml": [
       "<svg class=\"main-svg\" xmlns=\"http://www.w3.org/2000/svg\" xmlns:xlink=\"http://www.w3.org/1999/xlink\" width=\"700\" height=\"400\" style=\"\" viewBox=\"0 0 700 400\"><rect x=\"0\" y=\"0\" width=\"700\" height=\"400\" style=\"fill: rgb(255, 255, 255); fill-opacity: 1;\"/><defs id=\"defs-2678c3\"><g class=\"clips\"><clipPath id=\"clip2678c3xyplot\" class=\"plotclip\"><rect width=\"533\" height=\"260\"/></clipPath><clipPath class=\"axesclip\" id=\"clip2678c3x\"><rect x=\"87\" y=\"0\" width=\"533\" height=\"400\"/></clipPath><clipPath class=\"axesclip\" id=\"clip2678c3y\"><rect x=\"0\" y=\"60\" width=\"700\" height=\"260\"/></clipPath><clipPath class=\"axesclip\" id=\"clip2678c3xy\"><rect x=\"87\" y=\"60\" width=\"533\" height=\"260\"/></clipPath></g><g class=\"gradients\"/><g class=\"patterns\"/></defs><g class=\"bglayer\"><rect class=\"bg\" x=\"87\" y=\"60\" width=\"533\" height=\"260\" style=\"fill: rgb(229, 236, 246); fill-opacity: 1; stroke-width: 0;\"/></g><g class=\"layer-below\"><g class=\"imagelayer\"/><g class=\"shapelayer\"/></g><g class=\"cartesianlayer\"><g class=\"subplot xy\"><g class=\"layer-subplot\"><g class=\"shapelayer\"/><g class=\"imagelayer\"/></g><g class=\"minor-gridlayer\"><g class=\"x\"/><g class=\"y\"/></g><g class=\"gridlayer\"><g class=\"x\"><path class=\"xgrid crisp\" transform=\"translate(185.51,0)\" d=\"M0,60v260\" style=\"stroke: rgb(255, 255, 255); stroke-opacity: 1; stroke-width: 1px;\"/><path class=\"xgrid crisp\" transform=\"translate(284.02,0)\" d=\"M0,60v260\" style=\"stroke: rgb(255, 255, 255); stroke-opacity: 1; stroke-width: 1px;\"/><path class=\"xgrid crisp\" transform=\"translate(382.54,0)\" d=\"M0,60v260\" style=\"stroke: rgb(255, 255, 255); stroke-opacity: 1; stroke-width: 1px;\"/><path class=\"xgrid crisp\" transform=\"translate(481.05,0)\" d=\"M0,60v260\" style=\"stroke: rgb(255, 255, 255); stroke-opacity: 1; stroke-width: 1px;\"/><path class=\"xgrid crisp\" transform=\"translate(579.56,0)\" d=\"M0,60v260\" style=\"stroke: rgb(255, 255, 255); stroke-opacity: 1; stroke-width: 1px;\"/></g><g class=\"y\"/></g><g class=\"zerolinelayer\"><path class=\"xzl zl crisp\" transform=\"translate(87,0)\" d=\"M0,60v260\" style=\"stroke: rgb(255, 255, 255); stroke-opacity: 1; stroke-width: 2px;\"/></g><path class=\"xlines-below\"/><path class=\"ylines-below\"/><g class=\"overlines-below\"/><g class=\"xaxislayer-below\"/><g class=\"yaxislayer-below\"/><g class=\"overaxes-below\"/><g class=\"plot\" transform=\"translate(87,60)\" clip-path=\"url(#clip2678c3xyplot)\"><g class=\"barlayer mlayer\"><g class=\"trace bars\" style=\"opacity: 1;\"><g class=\"points\"><g class=\"point\"><path d=\"M0,247V143H506.35V247Z\" style=\"vector-effect: none; opacity: 1; stroke-width: 0.5px; fill: rgb(255, 0, 0); fill-opacity: 1; stroke: rgb(229, 236, 246); stroke-opacity: 1;\"/><text class=\"bartext bartext-inside\" text-anchor=\"middle\" data-notex=\"1\" x=\"0\" y=\"0\" style=\"font-family: 'Open Sans', verdana, arial, sans-serif; font-size: 14px; fill: rgb(255, 255, 255); fill-opacity: 1; white-space: pre;\" transform=\"translate(489.475,200.5)\">51.4</text></g><g class=\"point\"><path d=\"M0,117V13H478.77V117Z\" style=\"vector-effect: none; opacity: 1; stroke-width: 0.5px; fill: rgb(0, 0, 0); fill-opacity: 1; stroke: rgb(229, 236, 246); stroke-opacity: 1;\"/><text class=\"bartext bartext-inside\" text-anchor=\"middle\" data-notex=\"1\" x=\"0\" y=\"0\" style=\"font-family: 'Open Sans', verdana, arial, sans-serif; font-size: 14px; fill: rgb(255, 255, 255); fill-opacity: 1; white-space: pre;\" transform=\"translate(461.895,70.5)\">48.6</text></g></g></g></g></g><g class=\"overplot\"/><path class=\"xlines-above crisp\" d=\"M0,0\" style=\"fill: none;\"/><path class=\"ylines-above crisp\" d=\"M0,0\" style=\"fill: none;\"/><g class=\"overlines-above\"/><g class=\"xaxislayer-above\"><g class=\"xtick\"><text text-anchor=\"middle\" x=\"0\" y=\"335\" transform=\"translate(87,0)\" style=\"font-family: 'Open Sans', verdana, arial, sans-serif; font-size: 14px; fill: rgb(42, 63, 95); fill-opacity: 1; white-space: pre; opacity: 1;\">0</text></g><g class=\"xtick\"><text text-anchor=\"middle\" x=\"0\" y=\"335\" style=\"font-family: 'Open Sans', verdana, arial, sans-serif; font-size: 14px; fill: rgb(42, 63, 95); fill-opacity: 1; white-space: pre; opacity: 1;\" transform=\"translate(185.51,0)\">10</text></g><g class=\"xtick\"><text text-anchor=\"middle\" x=\"0\" y=\"335\" style=\"font-family: 'Open Sans', verdana, arial, sans-serif; font-size: 14px; fill: rgb(42, 63, 95); fill-opacity: 1; white-space: pre; opacity: 1;\" transform=\"translate(284.02,0)\">20</text></g><g class=\"xtick\"><text text-anchor=\"middle\" x=\"0\" y=\"335\" style=\"font-family: 'Open Sans', verdana, arial, sans-serif; font-size: 14px; fill: rgb(42, 63, 95); fill-opacity: 1; white-space: pre; opacity: 1;\" transform=\"translate(382.54,0)\">30</text></g><g class=\"xtick\"><text text-anchor=\"middle\" x=\"0\" y=\"335\" style=\"font-family: 'Open Sans', verdana, arial, sans-serif; font-size: 14px; fill: rgb(42, 63, 95); fill-opacity: 1; white-space: pre; opacity: 1;\" transform=\"translate(481.05,0)\">40</text></g><g class=\"xtick\"><text text-anchor=\"middle\" x=\"0\" y=\"335\" style=\"font-family: 'Open Sans', verdana, arial, sans-serif; font-size: 14px; fill: rgb(42, 63, 95); fill-opacity: 1; white-space: pre; opacity: 1;\" transform=\"translate(579.56,0)\">50</text></g></g><g class=\"yaxislayer-above\"><g class=\"ytick\"><text text-anchor=\"end\" x=\"86\" y=\"4.8999999999999995\" transform=\"translate(0,255)\" style=\"font-family: 'Open Sans', verdana, arial, sans-serif; font-size: 14px; fill: rgb(42, 63, 95); fill-opacity: 1; white-space: pre; opacity: 1;\">Male</text></g><g class=\"ytick\"><text text-anchor=\"end\" x=\"86\" y=\"4.8999999999999995\" transform=\"translate(0,125)\" style=\"font-family: 'Open Sans', verdana, arial, sans-serif; font-size: 14px; fill: rgb(42, 63, 95); fill-opacity: 1; white-space: pre; opacity: 1;\">Female</text></g></g><g class=\"overaxes-above\"/></g></g><g class=\"polarlayer\"/><g class=\"smithlayer\"/><g class=\"ternarylayer\"/><g class=\"geolayer\"/><g class=\"funnelarealayer\"/><g class=\"pielayer\"/><g class=\"iciclelayer\"/><g class=\"treemaplayer\"/><g class=\"sunburstlayer\"/><g class=\"glimages\"/><defs id=\"topdefs-2678c3\"><g class=\"clips\"/></defs><g class=\"layer-above\"><g class=\"imagelayer\"/><g class=\"shapelayer\"/></g><g class=\"infolayer\"><g class=\"g-gtitle\"><text class=\"gtitle\" x=\"35\" y=\"30\" text-anchor=\"start\" dy=\"0em\" style=\"font-family: 'Open Sans', verdana, arial, sans-serif; font-size: 20px; fill: rgb(42, 63, 95); opacity: 1; font-weight: normal; white-space: pre;\">Gender Percentage Count of Students</text></g><g class=\"g-xtitle\"><text class=\"xtitle\" x=\"353.5\" y=\"365.4\" text-anchor=\"middle\" style=\"font-family: 'Open Sans', verdana, arial, sans-serif; font-size: 17px; fill: rgb(42, 63, 95); opacity: 1; font-weight: normal; white-space: pre;\">%count</text></g><g class=\"g-ytitle\" transform=\"translate(5.697265625,0)\"><text class=\"ytitle\" transform=\"rotate(-90,12.303124999999994,190)\" x=\"12.303124999999994\" y=\"190\" text-anchor=\"middle\" style=\"font-family: 'Open Sans', verdana, arial, sans-serif; font-size: 17px; fill: rgb(42, 63, 95); opacity: 1; font-weight: normal; white-space: pre;\">Gender</text></g></g></svg>"
      ]
     },
     "metadata": {},
     "output_type": "display_data"
    }
   ],
   "source": [
    "# Calculate percentage count for gender\n",
    "percent_count = round(data_viz['Gender'].value_counts(normalize=True) * 100, 1)\n",
    "\n",
    "fig = px.bar(percent_count,  orientation= 'h', text_auto=True)\n",
    "\n",
    "fig.update_traces(marker=dict(color=['red']))\n",
    "\n",
    "fig.update_layout(height=400, width=700,\n",
    "                  title='Gender Percentage Count of Students',\n",
    "                  showlegend = False,\n",
    "                  font=dict(size=14),\n",
    "                  xaxis_title = '%count',\n",
    "                  yaxis_title = 'Gender')\n",
    "fig.write_image('fig.svg', engine='kaleido')\n",
    "fig.show('svg')"
   ]
  },
  {
   "cell_type": "code",
   "execution_count": 126,
   "id": "5001fdf5",
   "metadata": {},
   "outputs": [],
   "source": [
    "def get_dictionaries(category_list, dfcolumn_name, target_col, dictionary_list):\n",
    "  '''This function returns a list of dictionaries for value count of each target label per category'''\n",
    "  for each_category in category_list:\n",
    "    a_dictionary = dict(data_viz[data_viz[dfcolumn_name]== each_category][target_col].value_counts())\n",
    "    dictionary_list.append(a_dictionary)\n",
    "  return dictionary_list"
   ]
  },
  {
   "cell_type": "code",
   "execution_count": 127,
   "id": "cb6ad618",
   "metadata": {},
   "outputs": [],
   "source": [
    "def make_pie(dictionary_list, trace_list, colors_list, textposition = 'inside'):\n",
    "  '''This function returns a list of traces for pie charts'''\n",
    "  for dictionary in dictionary_list:\n",
    "    trace = go.Pie(values = list(dictionary.values()), labels = list(dictionary.keys()),\n",
    "           textposition = textposition, textinfo='percent+label',\n",
    "           marker=dict(colors=colors_list))\n",
    "    trace_list.append(trace)\n",
    "  return trace_list"
   ]
  },
  {
   "cell_type": "code",
   "execution_count": 128,
   "id": "16037b77",
   "metadata": {},
   "outputs": [
    {
     "data": {
      "text/plain": [
       "[{'Glaucoma': 110, 'No Glaucoma': 95}, {'No Glaucoma': 105, 'Glaucoma': 89}]"
      ]
     },
     "execution_count": 128,
     "metadata": {},
     "output_type": "execute_result"
    }
   ],
   "source": [
    "# Getting dictionaries for genders\n",
    "genders = data_viz['Gender'].unique()\n",
    "genders_dictionaries = get_dictionaries(genders, 'Gender', 'Target', [])\n",
    "genders_dictionaries"
   ]
  },
  {
   "cell_type": "code",
   "execution_count": 129,
   "id": "56c7e353",
   "metadata": {},
   "outputs": [
    {
     "data": {
      "image/svg+xml": [
       "<svg class=\"main-svg\" xmlns=\"http://www.w3.org/2000/svg\" xmlns:xlink=\"http://www.w3.org/1999/xlink\" width=\"800\" height=\"500\" viewBox=\"0 0 800 500\" style=\"\"><rect x=\"0\" y=\"0\" width=\"800\" height=\"500\" style=\"fill: rgb(255, 255, 255); fill-opacity: 1;\"/><defs id=\"defs-eba5ff\"><g class=\"clips\"/><g class=\"gradients\"/><g class=\"patterns\"/></defs><g class=\"bglayer\"/><g class=\"layer-below\"><g class=\"imagelayer\"/><g class=\"shapelayer\"/></g><g class=\"cartesianlayer\"/><g class=\"polarlayer\"/><g class=\"smithlayer\"/><g class=\"ternarylayer\"/><g class=\"geolayer\"/><g class=\"funnelarealayer\"/><g class=\"pielayer\"><g class=\"trace\" stroke-linejoin=\"round\" style=\"opacity: 1;\"><g class=\"slice\"><path class=\"surface\" d=\"M224,260l0,-144a144,144 0 1 1 -32.810905282051806,284.2121410384002Z\" style=\"pointer-events: none; fill: rgb(0, 128, 128); fill-opacity: 1; stroke-width: 0; stroke: rgb(68, 68, 68); stroke-opacity: 1;\"/><g class=\"slicetext\"><text data-notex=\"1\" class=\"slicetext\" transform=\"translate(295.5249504626966,264.65564412868486)\" text-anchor=\"middle\" x=\"0\" y=\"0\" style=\"font-family: 'Open Sans', verdana, arial, sans-serif; font-size: 14px; fill: rgb(255, 255, 255); fill-opacity: 1; white-space: pre;\"><tspan class=\"line\" dy=\"0em\" x=\"0\" y=\"0\">Glaucoma</tspan><tspan class=\"line\" dy=\"1.3em\" x=\"0\" y=\"0\">53.7%</tspan></text></g></g><g class=\"slice\"><path class=\"surface\" d=\"M224,260l-32.81090528205184,140.21214103840018a144,144 0 0 1 32.81090528205184,-284.2121410384002Z\" style=\"pointer-events: none; fill: rgb(218, 165, 32); fill-opacity: 1; stroke-width: 0; stroke: rgb(68, 68, 68); stroke-opacity: 1;\"/><g class=\"slicetext\"><text data-notex=\"1\" class=\"slicetext\" transform=\"translate(152.23831094576641,248.11390055574475)\" text-anchor=\"middle\" x=\"0\" y=\"0\" style=\"font-family: 'Open Sans', verdana, arial, sans-serif; font-size: 14px; fill: rgb(68, 68, 68); fill-opacity: 1; white-space: pre;\"><tspan class=\"line\" dy=\"0em\" x=\"0\" y=\"0\">No Glaucoma</tspan><tspan class=\"line\" dy=\"1.3em\" x=\"0\" y=\"0\">46.3%</tspan></text></g></g></g><g class=\"trace\" stroke-linejoin=\"round\" style=\"opacity: 1;\"><g class=\"slice\"><path class=\"surface\" d=\"M576,260l0,-144a144,144 0 1 1 -36.89439951781041,283.19340244501603Z\" style=\"pointer-events: none; fill: rgb(0, 128, 128); fill-opacity: 1; stroke-width: 0; stroke: rgb(68, 68, 68); stroke-opacity: 1;\"/><g class=\"slicetext\"><text data-notex=\"1\" class=\"slicetext\" transform=\"translate(647.3966472883026,265.6999833924693)\" text-anchor=\"middle\" x=\"0\" y=\"0\" style=\"font-family: 'Open Sans', verdana, arial, sans-serif; font-size: 14px; fill: rgb(255, 255, 255); fill-opacity: 1; white-space: pre;\"><tspan class=\"line\" dy=\"0em\" x=\"0\" y=\"0\">No Glaucoma</tspan><tspan class=\"line\" dy=\"1.3em\" x=\"0\" y=\"0\">54.1%</tspan></text></g></g><g class=\"slice\"><path class=\"surface\" d=\"M576,260l-36.894399517810385,139.19340244501603a144,144 0 0 1 36.894399517810385,-283.19340244501603Z\" style=\"pointer-events: none; fill: rgb(218, 165, 32); fill-opacity: 1; stroke-width: 0; stroke: rgb(68, 68, 68); stroke-opacity: 1;\"/><g class=\"slicetext\"><text data-notex=\"1\" class=\"slicetext\" transform=\"translate(504.3029456829271,247.0577546190214)\" text-anchor=\"middle\" x=\"0\" y=\"0\" style=\"font-family: 'Open Sans', verdana, arial, sans-serif; font-size: 14px; fill: rgb(68, 68, 68); fill-opacity: 1; white-space: pre;\"><tspan class=\"line\" dy=\"0em\" x=\"0\" y=\"0\">Glaucoma</tspan><tspan class=\"line\" dy=\"1.3em\" x=\"0\" y=\"0\">45.9%</tspan></text></g></g></g></g><g class=\"iciclelayer\"/><g class=\"treemaplayer\"/><g class=\"sunburstlayer\"/><g class=\"glimages\"/><defs id=\"topdefs-eba5ff\"><g class=\"clips\"/></defs><g class=\"layer-above\"><g class=\"imagelayer\"/><g class=\"shapelayer\"/></g><g class=\"infolayer\"><g class=\"g-gtitle\"><text class=\"gtitle\" x=\"40\" y=\"50\" text-anchor=\"start\" dy=\"0em\" style=\"font-family: 'Open Sans', verdana, arial, sans-serif; font-size: 20px; fill: rgb(42, 63, 95); opacity: 1; font-weight: normal; white-space: pre;\">Gender distribution of students</text></g><g class=\"annotation\" data-index=\"0\" style=\"opacity: 1;\"><g class=\"annotation-text-g\" transform=\"rotate(0,224,87)\"><g class=\"cursor-pointer\" transform=\"translate(172,74)\"><rect class=\"bg\" x=\"0.5\" y=\"0.5\" width=\"104\" height=\"25\" style=\"stroke-width: 1px; stroke: rgb(0, 0, 0); stroke-opacity: 0; fill: rgb(0, 0, 0); fill-opacity: 0;\"/><text class=\"annotation-text\" text-anchor=\"middle\" x=\"52.421875\" y=\"19\" style=\"font-family: 'Open Sans', verdana, arial, sans-serif; font-size: 16px; fill: rgb(42, 63, 95); fill-opacity: 1; white-space: pre;\">Male Patients</text></g></g></g><g class=\"annotation\" data-index=\"1\" style=\"opacity: 1;\"><g class=\"annotation-text-g\" transform=\"rotate(0,576,87)\"><g class=\"cursor-pointer\" transform=\"translate(515,74)\"><rect class=\"bg\" x=\"0.5\" y=\"0.5\" width=\"122\" height=\"25\" style=\"stroke-width: 1px; stroke: rgb(0, 0, 0); stroke-opacity: 0; fill: rgb(0, 0, 0); fill-opacity: 0;\"/><text class=\"annotation-text\" text-anchor=\"middle\" x=\"61.25\" y=\"19\" style=\"font-family: 'Open Sans', verdana, arial, sans-serif; font-size: 16px; fill: rgb(42, 63, 95); fill-opacity: 1; white-space: pre;\">Female Patients</text></g></g></g></g></svg>"
      ]
     },
     "metadata": {},
     "output_type": "display_data"
    }
   ],
   "source": [
    "# Creating subplots for Gender distribution of students\n",
    "fig = make_subplots(rows=1, cols=2, subplot_titles=[ 'Male Patients', 'Female Patients'],\n",
    "                    specs=[[{'type': 'pie'}, {'type': 'pie'}]])\n",
    "\n",
    "# Creating empty trace list\n",
    "traces = []\n",
    "make_pie(genders_dictionaries, traces, ['teal', 'goldenrod', 'slateblue'])\n",
    "\n",
    "# Adding pie charts\n",
    "fig.add_trace(traces[0], row=1, col=1)\n",
    "fig.add_trace(traces[1], row=1, col=2)\n",
    "\n",
    "# Updating layout\n",
    "fig.update_layout(height=500, width=800,\n",
    "                  title='Gender distribution of students',\n",
    "                  showlegend = False,\n",
    "                  font=dict(size=14))\n",
    "\n",
    "fig.write_image('fig.svg', engine='kaleido')\n",
    "fig.show('svg')"
   ]
  },
  {
   "cell_type": "code",
   "execution_count": 130,
   "id": "1cff5e29",
   "metadata": {},
   "outputs": [
    {
     "data": {
      "text/plain": [
       "[{'No Glaucoma': 114, 'Glaucoma': 74}, {'Glaucoma': 125, 'No Glaucoma': 86}]"
      ]
     },
     "execution_count": 130,
     "metadata": {},
     "output_type": "execute_result"
    }
   ],
   "source": [
    "# Getting dictionaries for genders\n",
    "nausea = data_viz['Nausea'].unique()\n",
    "nausea_dictionaries = get_dictionaries(nausea, 'Nausea', 'Target', [])\n",
    "nausea_dictionaries"
   ]
  },
  {
   "cell_type": "code",
   "execution_count": 132,
   "id": "9fea5dbd",
   "metadata": {},
   "outputs": [
    {
     "data": {
      "image/svg+xml": [
       "<svg class=\"main-svg\" xmlns=\"http://www.w3.org/2000/svg\" xmlns:xlink=\"http://www.w3.org/1999/xlink\" width=\"800\" height=\"500\" style=\"\" viewBox=\"0 0 800 500\"><rect x=\"0\" y=\"0\" width=\"800\" height=\"500\" style=\"fill: rgb(255, 255, 255); fill-opacity: 1;\"/><defs id=\"defs-4e2583\"><g class=\"clips\"/><g class=\"gradients\"/><g class=\"patterns\"/></defs><g class=\"bglayer\"/><g class=\"layer-below\"><g class=\"imagelayer\"/><g class=\"shapelayer\"/></g><g class=\"cartesianlayer\"/><g class=\"polarlayer\"/><g class=\"smithlayer\"/><g class=\"ternarylayer\"/><g class=\"geolayer\"/><g class=\"funnelarealayer\"/><g class=\"pielayer\"><g class=\"trace\" stroke-linejoin=\"round\" style=\"opacity: 1;\"><g class=\"slice\"><path class=\"surface\" d=\"M224,260l0,-144a144,144 0 1 1 -89.24398401027523,257.01111148012717Z\" style=\"pointer-events: none; fill: rgb(0, 128, 128); fill-opacity: 1; stroke-width: 0; stroke: rgb(68, 68, 68); stroke-opacity: 1;\"/><g class=\"slicetext\"><text data-notex=\"1\" class=\"slicetext\" transform=\"translate(292.01617459577017,280.01622726444896)\" text-anchor=\"middle\" x=\"0\" y=\"0\" style=\"font-family: 'Open Sans', verdana, arial, sans-serif; font-size: 14px; fill: rgb(255, 255, 255); fill-opacity: 1; white-space: pre;\"><tspan class=\"line\" dy=\"0em\" x=\"0\" y=\"0\">No Glaucoma</tspan><tspan class=\"line\" dy=\"1.3em\" x=\"0\" y=\"0\">60.6%</tspan></text></g></g><g class=\"slice\"><path class=\"surface\" d=\"M224,260l-89.24398401027526,113.01111148012718a144,144 0 0 1 89.24398401027526,-257.01111148012717Z\" style=\"pointer-events: none; fill: rgb(218, 165, 32); fill-opacity: 1; stroke-width: 0; stroke: rgb(68, 68, 68); stroke-opacity: 1;\"/><g class=\"slicetext\"><text data-notex=\"1\" class=\"slicetext\" transform=\"translate(154.0485878144625,232.1086600089401)\" text-anchor=\"middle\" x=\"0\" y=\"0\" style=\"font-family: 'Open Sans', verdana, arial, sans-serif; font-size: 14px; fill: rgb(68, 68, 68); fill-opacity: 1; white-space: pre;\"><tspan class=\"line\" dy=\"0em\" x=\"0\" y=\"0\">Glaucoma</tspan><tspan class=\"line\" dy=\"1.3em\" x=\"0\" y=\"0\">39.4%</tspan></text></g></g></g><g class=\"trace\" stroke-linejoin=\"round\" style=\"opacity: 1;\"><g class=\"slice\"><path class=\"surface\" d=\"M576,260l0,-144a144,144 0 1 1 -78.99655533473982,264.3974428517707Z\" style=\"pointer-events: none; fill: rgb(0, 128, 128); fill-opacity: 1; stroke-width: 0; stroke: rgb(68, 68, 68); stroke-opacity: 1;\"/><g class=\"slicetext\"><text data-notex=\"1\" class=\"slicetext\" transform=\"translate(644.9866216837139,277.0102309364802)\" text-anchor=\"middle\" x=\"0\" y=\"0\" style=\"font-family: 'Open Sans', verdana, arial, sans-serif; font-size: 14px; fill: rgb(255, 255, 255); fill-opacity: 1; white-space: pre;\"><tspan class=\"line\" dy=\"0em\" x=\"0\" y=\"0\">Glaucoma</tspan><tspan class=\"line\" dy=\"1.3em\" x=\"0\" y=\"0\">59.2%</tspan></text></g></g><g class=\"slice\"><path class=\"surface\" d=\"M576,260l-78.99655533473981,120.3974428517707a144,144 0 0 1 78.99655533473981,-264.39744285177073Z\" style=\"pointer-events: none; fill: rgb(218, 165, 32); fill-opacity: 1; stroke-width: 0; stroke: rgb(68, 68, 68); stroke-opacity: 1;\"/><g class=\"slicetext\"><text data-notex=\"1\" class=\"slicetext\" transform=\"translate(505.5388923869623,235.34609778572764)\" text-anchor=\"middle\" x=\"0\" y=\"0\" style=\"font-family: 'Open Sans', verdana, arial, sans-serif; font-size: 14px; fill: rgb(68, 68, 68); fill-opacity: 1; white-space: pre;\"><tspan class=\"line\" dy=\"0em\" x=\"0\" y=\"0\">No Glaucoma</tspan><tspan class=\"line\" dy=\"1.3em\" x=\"0\" y=\"0\">40.8%</tspan></text></g></g></g></g><g class=\"iciclelayer\"/><g class=\"treemaplayer\"/><g class=\"sunburstlayer\"/><g class=\"glimages\"/><defs id=\"topdefs-4e2583\"><g class=\"clips\"/></defs><g class=\"layer-above\"><g class=\"imagelayer\"/><g class=\"shapelayer\"/></g><g class=\"infolayer\"><g class=\"g-gtitle\"><text class=\"gtitle\" x=\"40\" y=\"50\" text-anchor=\"start\" dy=\"0em\" style=\"font-family: 'Open Sans', verdana, arial, sans-serif; font-size: 20px; fill: rgb(42, 63, 95); opacity: 1; font-weight: normal; white-space: pre;\">Nausea symptoms of patients</text></g><g class=\"annotation\" data-index=\"0\" style=\"opacity: 1;\"><g class=\"annotation-text-g\" transform=\"rotate(0,224,87)\"><g class=\"cursor-pointer\" transform=\"translate(138,74)\"><rect class=\"bg\" x=\"0.5\" y=\"0.5\" width=\"172\" height=\"25\" style=\"stroke-width: 1px; stroke: rgb(0, 0, 0); stroke-opacity: 0; fill: rgb(0, 0, 0); fill-opacity: 0;\"/><text class=\"annotation-text\" text-anchor=\"middle\" x=\"86.359375\" y=\"19\" style=\"font-family: 'Open Sans', verdana, arial, sans-serif; font-size: 16px; fill: rgb(42, 63, 95); fill-opacity: 1; white-space: pre;\">No Nausea symptoms </text></g></g></g><g class=\"annotation\" data-index=\"1\" style=\"opacity: 1;\"><g class=\"annotation-text-g\" transform=\"rotate(0,576,87)\"><g class=\"cursor-pointer\" transform=\"translate(505,74)\"><rect class=\"bg\" x=\"0.5\" y=\"0.5\" width=\"142\" height=\"25\" style=\"stroke-width: 1px; stroke: rgb(0, 0, 0); stroke-opacity: 0; fill: rgb(0, 0, 0); fill-opacity: 0;\"/><text class=\"annotation-text\" text-anchor=\"middle\" x=\"71.328125\" y=\"19\" style=\"font-family: 'Open Sans', verdana, arial, sans-serif; font-size: 16px; fill: rgb(42, 63, 95); fill-opacity: 1; white-space: pre;\">Nausea symptoms</text></g></g></g></g></svg>"
      ]
     },
     "metadata": {},
     "output_type": "display_data"
    }
   ],
   "source": [
    "# Creating subplots for Nausea symptoms of patients\n",
    "fig = make_subplots(rows=1, cols=2, subplot_titles=[ 'No Nausea symptoms ', 'Nausea symptoms'],\n",
    "                    specs=[[{'type': 'pie'}, {'type': 'pie'}]])\n",
    "\n",
    "# Creating empty trace list\n",
    "traces = []\n",
    "make_pie(nausea_dictionaries, traces, ['teal', 'goldenrod', 'slateblue'])\n",
    "\n",
    "# Adding pie charts\n",
    "fig.add_trace(traces[0], row=1, col=1)\n",
    "fig.add_trace(traces[1], row=1, col=2)\n",
    "\n",
    "# Updating layout\n",
    "fig.update_layout(height=500, width=800,\n",
    "                  title='Nausea symptoms of patients',\n",
    "                  showlegend = False,\n",
    "                  font=dict(size=14))\n",
    "\n",
    "fig.write_image('fig.svg', engine='kaleido')\n",
    "fig.show('svg')"
   ]
  },
  {
   "cell_type": "code",
   "execution_count": 65,
   "id": "cadb5dc4",
   "metadata": {},
   "outputs": [
    {
     "data": {
      "text/plain": [
       "[{'Glaucoma': 131, 'No Glaucoma': 121}, {'No Glaucoma': 79, 'Glaucoma': 68}]"
      ]
     },
     "execution_count": 65,
     "metadata": {},
     "output_type": "execute_result"
    }
   ],
   "source": [
    "# Getting dictionaries for genders\n",
    "red_eye = data_viz['Redness in the eye'].unique()\n",
    "red_eye_dictionaries = get_dictionaries(red_eye, 'Redness in the eye', 'Target', [])\n",
    "red_eye_dictionaries"
   ]
  },
  {
   "cell_type": "code",
   "execution_count": 133,
   "id": "9360b329",
   "metadata": {},
   "outputs": [
    {
     "data": {
      "image/svg+xml": [
       "<svg class=\"main-svg\" xmlns=\"http://www.w3.org/2000/svg\" xmlns:xlink=\"http://www.w3.org/1999/xlink\" width=\"800\" height=\"500\" style=\"\" viewBox=\"0 0 800 500\"><rect x=\"0\" y=\"0\" width=\"800\" height=\"500\" style=\"fill: rgb(255, 255, 255); fill-opacity: 1;\"/><defs id=\"defs-dab229\"><g class=\"clips\"/><g class=\"gradients\"/><g class=\"patterns\"/></defs><g class=\"bglayer\"/><g class=\"layer-below\"><g class=\"imagelayer\"/><g class=\"shapelayer\"/></g><g class=\"cartesianlayer\"/><g class=\"polarlayer\"/><g class=\"smithlayer\"/><g class=\"ternarylayer\"/><g class=\"geolayer\"/><g class=\"funnelarealayer\"/><g class=\"pielayer\"><g class=\"trace\" stroke-linejoin=\"round\" style=\"opacity: 1;\"><g class=\"slice\"><path class=\"surface\" d=\"M224,260l0,-144a144,144 0 1 1 -17.905493469237854,286.8824457504248Z\" style=\"pointer-events: none; fill: rgb(0, 128, 128); fill-opacity: 1; stroke-width: 0; stroke: rgb(68, 68, 68); stroke-opacity: 1;\"/><g class=\"slicetext\"><text data-notex=\"1\" class=\"slicetext\" transform=\"translate(295.8601699379263,260.88352127762937)\" text-anchor=\"middle\" x=\"0\" y=\"0\" style=\"font-family: 'Open Sans', verdana, arial, sans-serif; font-size: 14px; fill: rgb(255, 255, 255); fill-opacity: 1; white-space: pre;\"><tspan class=\"line\" dy=\"0em\" x=\"0\" y=\"0\">Glaucoma</tspan><tspan class=\"line\" dy=\"1.3em\" x=\"0\" y=\"0\">52%</tspan></text></g></g><g class=\"slice\"><path class=\"surface\" d=\"M224,260l-17.905493469237825,142.88244575042478a144,144 0 0 1 17.905493469237825,-286.8824457504248Z\" style=\"pointer-events: none; fill: rgb(218, 165, 32); fill-opacity: 1; stroke-width: 0; stroke: rgb(68, 68, 68); stroke-opacity: 1;\"/><g class=\"slicetext\"><text data-notex=\"1\" class=\"slicetext\" transform=\"translate(152.06998298746382,251.90899428401255)\" text-anchor=\"middle\" x=\"0\" y=\"0\" style=\"font-family: 'Open Sans', verdana, arial, sans-serif; font-size: 14px; fill: rgb(68, 68, 68); fill-opacity: 1; white-space: pre;\"><tspan class=\"line\" dy=\"0em\" x=\"0\" y=\"0\">No Glaucoma</tspan><tspan class=\"line\" dy=\"1.3em\" x=\"0\" y=\"0\">48%</tspan></text></g></g></g><g class=\"trace\" stroke-linejoin=\"round\" style=\"opacity: 1;\"><g class=\"slice\"><path class=\"surface\" d=\"M576,260l0,-144a144,144 0 1 1 -33.541316412246516,284.0392091284922Z\" style=\"pointer-events: none; fill: rgb(0, 128, 128); fill-opacity: 1; stroke-width: 0; stroke: rgb(68, 68, 68); stroke-opacity: 1;\"/><g class=\"slicetext\"><text data-notex=\"1\" class=\"slicetext\" transform=\"translate(647.5031870919952,264.8420288974529)\" text-anchor=\"middle\" x=\"0\" y=\"0\" style=\"font-family: 'Open Sans', verdana, arial, sans-serif; font-size: 14px; fill: rgb(255, 255, 255); fill-opacity: 1; white-space: pre;\"><tspan class=\"line\" dy=\"0em\" x=\"0\" y=\"0\">No Glaucoma</tspan><tspan class=\"line\" dy=\"1.3em\" x=\"0\" y=\"0\">53.7%</tspan></text></g></g><g class=\"slice\"><path class=\"surface\" d=\"M576,260l-33.54131641224655,140.03920912849216a144,144 0 0 1 33.54131641224655,-284.0392091284922Z\" style=\"pointer-events: none; fill: rgb(218, 165, 32); fill-opacity: 1; stroke-width: 0; stroke: rgb(68, 68, 68); stroke-opacity: 1;\"/><g class=\"slicetext\"><text data-notex=\"1\" class=\"slicetext\" transform=\"translate(504.24926644558366,247.92561410233034)\" text-anchor=\"middle\" x=\"0\" y=\"0\" style=\"font-family: 'Open Sans', verdana, arial, sans-serif; font-size: 14px; fill: rgb(68, 68, 68); fill-opacity: 1; white-space: pre;\"><tspan class=\"line\" dy=\"0em\" x=\"0\" y=\"0\">Glaucoma</tspan><tspan class=\"line\" dy=\"1.3em\" x=\"0\" y=\"0\">46.3%</tspan></text></g></g></g></g><g class=\"iciclelayer\"/><g class=\"treemaplayer\"/><g class=\"sunburstlayer\"/><g class=\"glimages\"/><defs id=\"topdefs-dab229\"><g class=\"clips\"/></defs><g class=\"layer-above\"><g class=\"imagelayer\"/><g class=\"shapelayer\"/></g><g class=\"infolayer\"><g class=\"g-gtitle\"><text class=\"gtitle\" x=\"40\" y=\"50\" text-anchor=\"start\" dy=\"0em\" style=\"font-family: 'Open Sans', verdana, arial, sans-serif; font-size: 20px; fill: rgb(42, 63, 95); opacity: 1; font-weight: normal; white-space: pre;\">Red Eye symptoms of patients</text></g><g class=\"annotation\" data-index=\"0\" style=\"opacity: 1;\"><g class=\"annotation-text-g\" transform=\"rotate(0,224,87)\"><g class=\"cursor-pointer\" transform=\"translate(178,74)\"><rect class=\"bg\" x=\"0.5\" y=\"0.5\" width=\"92\" height=\"25\" style=\"stroke-width: 1px; stroke: rgb(0, 0, 0); stroke-opacity: 0; fill: rgb(0, 0, 0); fill-opacity: 0;\"/><text class=\"annotation-text\" text-anchor=\"middle\" x=\"46.40625\" y=\"19\" style=\"font-family: 'Open Sans', verdana, arial, sans-serif; font-size: 16px; fill: rgb(42, 63, 95); fill-opacity: 1; white-space: pre;\">No Red Eye </text></g></g></g><g class=\"annotation\" data-index=\"1\" style=\"opacity: 1;\"><g class=\"annotation-text-g\" transform=\"rotate(0,576,87)\"><g class=\"cursor-pointer\" transform=\"translate(503,74)\"><rect class=\"bg\" x=\"0.5\" y=\"0.5\" width=\"145\" height=\"25\" style=\"stroke-width: 1px; stroke: rgb(0, 0, 0); stroke-opacity: 0; fill: rgb(0, 0, 0); fill-opacity: 0;\"/><text class=\"annotation-text\" text-anchor=\"middle\" x=\"72.578125\" y=\"19\" style=\"font-family: 'Open Sans', verdana, arial, sans-serif; font-size: 16px; fill: rgb(42, 63, 95); fill-opacity: 1; white-space: pre;\">Red Eye symptoms</text></g></g></g></g></svg>"
      ]
     },
     "metadata": {},
     "output_type": "display_data"
    }
   ],
   "source": [
    "# Creating subplots for Red Eye symptoms of patients\n",
    "fig = make_subplots(rows=1, cols=2, subplot_titles=[ 'No Red Eye ', 'Red Eye symptoms'],\n",
    "                    specs=[[{'type': 'pie'}, {'type': 'pie'}]])\n",
    "\n",
    "# Creating empty trace list\n",
    "traces = []\n",
    "make_pie(red_eye_dictionaries, traces, ['teal', 'goldenrod', 'slateblue'])\n",
    "\n",
    "# Adding pie charts\n",
    "fig.add_trace(traces[0], row=1, col=1)\n",
    "fig.add_trace(traces[1], row=1, col=2)\n",
    "\n",
    "# Updating layout\n",
    "fig.update_layout(height=500, width=800,\n",
    "                  title='Red Eye symptoms of patients',\n",
    "                  showlegend = False,\n",
    "                  font=dict(size=14))\n",
    "\n",
    "fig.write_image('fig.svg', engine='kaleido')\n",
    "fig.show('svg')"
   ]
  },
  {
   "cell_type": "code",
   "execution_count": 147,
   "id": "ce53ec95",
   "metadata": {},
   "outputs": [],
   "source": [
    "# Converting back to categorical\n",
    "data_viz['Medical History'] = data_viz['Medical History'].map({1:'Diabets', 2: 'Hypertension',\n",
    "                                                             3: 'Glaucoma in Family', 4: 'None'})"
   ]
  },
  {
   "cell_type": "code",
   "execution_count": 148,
   "id": "4e2acc4c",
   "metadata": {},
   "outputs": [
    {
     "data": {
      "image/svg+xml": [
       "<svg class=\"main-svg\" xmlns=\"http://www.w3.org/2000/svg\" xmlns:xlink=\"http://www.w3.org/1999/xlink\" width=\"1200\" height=\"500\" style=\"\" viewBox=\"0 0 1200 500\"><rect x=\"0\" y=\"0\" width=\"1200\" height=\"500\" style=\"fill: rgb(255, 255, 255); fill-opacity: 1;\"/><defs id=\"defs-3c927a\"><g class=\"clips\"><clipPath id=\"clip3c927axyplot\" class=\"plotclip\"><rect width=\"967\" height=\"360\"/></clipPath><clipPath class=\"axesclip\" id=\"clip3c927ax\"><rect x=\"80\" y=\"0\" width=\"967\" height=\"500\"/></clipPath><clipPath class=\"axesclip\" id=\"clip3c927ay\"><rect x=\"0\" y=\"60\" width=\"1200\" height=\"360\"/></clipPath><clipPath class=\"axesclip\" id=\"clip3c927axy\"><rect x=\"80\" y=\"60\" width=\"967\" height=\"360\"/></clipPath></g><g class=\"gradients\"/><g class=\"patterns\"/></defs><g class=\"bglayer\"><rect class=\"bg\" x=\"80\" y=\"60\" width=\"967\" height=\"360\" style=\"fill: rgb(229, 236, 246); fill-opacity: 1; stroke-width: 0;\"/></g><g class=\"layer-below\"><g class=\"imagelayer\"/><g class=\"shapelayer\"/></g><g class=\"cartesianlayer\"><g class=\"subplot xy\"><g class=\"layer-subplot\"><g class=\"shapelayer\"/><g class=\"imagelayer\"/></g><g class=\"minor-gridlayer\"><g class=\"x\"/><g class=\"y\"/></g><g class=\"gridlayer\"><g class=\"x\"/><g class=\"y\"><path class=\"ygrid crisp\" transform=\"translate(0,354.23)\" d=\"M80,0h967\" style=\"stroke: rgb(255, 255, 255); stroke-opacity: 1; stroke-width: 1px;\"/><path class=\"ygrid crisp\" transform=\"translate(0,288.46000000000004)\" d=\"M80,0h967\" style=\"stroke: rgb(255, 255, 255); stroke-opacity: 1; stroke-width: 1px;\"/><path class=\"ygrid crisp\" transform=\"translate(0,222.69)\" d=\"M80,0h967\" style=\"stroke: rgb(255, 255, 255); stroke-opacity: 1; stroke-width: 1px;\"/><path class=\"ygrid crisp\" transform=\"translate(0,156.92000000000002)\" d=\"M80,0h967\" style=\"stroke: rgb(255, 255, 255); stroke-opacity: 1; stroke-width: 1px;\"/><path class=\"ygrid crisp\" transform=\"translate(0,91.15)\" d=\"M80,0h967\" style=\"stroke: rgb(255, 255, 255); stroke-opacity: 1; stroke-width: 1px;\"/></g></g><g class=\"zerolinelayer\"><path class=\"yzl zl crisp\" transform=\"translate(0,420)\" d=\"M80,0h967\" style=\"stroke: rgb(255, 255, 255); stroke-opacity: 1; stroke-width: 2px;\"/></g><path class=\"xlines-below\"/><path class=\"ylines-below\"/><g class=\"overlines-below\"/><g class=\"xaxislayer-below\"/><g class=\"yaxislayer-below\"/><g class=\"overaxes-below\"/><g class=\"plot\" transform=\"translate(80,60)\" clip-path=\"url(#clip3c927axyplot)\"><g class=\"barlayer mlayer\"><g class=\"trace bars\" style=\"opacity: 1;\"><g class=\"points\"><g class=\"point\"><path d=\"M24.17,360V38.15H120.88V360Z\" style=\"vector-effect: none; opacity: 1; stroke-width: 0px; fill: rgb(27, 158, 119); fill-opacity: 1;\"/><text class=\"bartext bartext-inside\" text-anchor=\"middle\" data-notex=\"1\" x=\"0\" y=\"0\" style=\"font-family: 'Open Sans', verdana, arial, sans-serif; font-size: 12px; fill: rgb(255, 255, 255); fill-opacity: 1; white-space: pre;\" transform=\"translate(72.9546875,54.15)\">48.9</text></g><g class=\"point\"><path d=\"M265.92,360V27.96H362.63V360Z\" style=\"vector-effect: none; opacity: 1; stroke-width: 0px; fill: rgb(27, 158, 119); fill-opacity: 1;\"/><text class=\"bartext bartext-inside\" text-anchor=\"middle\" data-notex=\"1\" x=\"0\" y=\"0\" style=\"font-family: 'Open Sans', verdana, arial, sans-serif; font-size: 12px; fill: rgb(255, 255, 255); fill-opacity: 1; white-space: pre;\" transform=\"translate(314.2046875,43.96)\">50.5</text></g><g class=\"point\"><path d=\"M507.68,360V18H604.38V360Z\" style=\"vector-effect: none; opacity: 1; stroke-width: 0px; fill: rgb(27, 158, 119); fill-opacity: 1;\"/><text class=\"bartext bartext-inside\" text-anchor=\"middle\" data-notex=\"1\" x=\"0\" y=\"0\" style=\"font-family: 'Open Sans', verdana, arial, sans-serif; font-size: 12px; fill: rgb(255, 255, 255); fill-opacity: 1; white-space: pre;\" transform=\"translate(555.9596875,34)\">52.0</text></g><g class=\"point\"><path d=\"M749.43,360V44.05H846.13V360Z\" style=\"vector-effect: none; opacity: 1; stroke-width: 0px; fill: rgb(27, 158, 119); fill-opacity: 1;\"/><text class=\"bartext bartext-inside\" text-anchor=\"middle\" data-notex=\"1\" x=\"0\" y=\"0\" style=\"font-family: 'Open Sans', verdana, arial, sans-serif; font-size: 12px; fill: rgb(255, 255, 255); fill-opacity: 1; white-space: pre;\" transform=\"translate(798.2096875,60.05)\">48.0</text></g></g></g><g class=\"trace bars\" style=\"opacity: 1;\"><g class=\"points\"><g class=\"point\"><path d=\"M120.88,360V24.16H217.58V360Z\" style=\"vector-effect: none; opacity: 1; stroke-width: 0px; fill: rgb(217, 95, 2); fill-opacity: 1;\"/><text class=\"bartext bartext-inside\" text-anchor=\"middle\" data-notex=\"1\" x=\"0\" y=\"0\" style=\"font-family: 'Open Sans', verdana, arial, sans-serif; font-size: 12px; fill: rgb(255, 255, 255); fill-opacity: 1; white-space: pre;\" transform=\"translate(169.23000000000002,40.16)\">51.1</text></g><g class=\"point\"><path d=\"M362.63,360V34.35H459.33V360Z\" style=\"vector-effect: none; opacity: 1; stroke-width: 0px; fill: rgb(217, 95, 2); fill-opacity: 1;\"/><text class=\"bartext bartext-inside\" text-anchor=\"middle\" data-notex=\"1\" x=\"0\" y=\"0\" style=\"font-family: 'Open Sans', verdana, arial, sans-serif; font-size: 12px; fill: rgb(255, 255, 255); fill-opacity: 1; white-space: pre;\" transform=\"translate(411.4096875,50.35)\">49.5</text></g><g class=\"point\"><path d=\"M604.38,360V44.31H701.08V360Z\" style=\"vector-effect: none; opacity: 1; stroke-width: 0px; fill: rgb(217, 95, 2); fill-opacity: 1;\"/><text class=\"bartext bartext-inside\" text-anchor=\"middle\" data-notex=\"1\" x=\"0\" y=\"0\" style=\"font-family: 'Open Sans', verdana, arial, sans-serif; font-size: 12px; fill: rgb(255, 255, 255); fill-opacity: 1; white-space: pre;\" transform=\"translate(653.1596875,60.31)\">48.0</text></g><g class=\"point\"><path d=\"M846.13,360V18.26H942.83V360Z\" style=\"vector-effect: none; opacity: 1; stroke-width: 0px; fill: rgb(217, 95, 2); fill-opacity: 1;\"/><text class=\"bartext bartext-inside\" text-anchor=\"middle\" data-notex=\"1\" x=\"0\" y=\"0\" style=\"font-family: 'Open Sans', verdana, arial, sans-serif; font-size: 12px; fill: rgb(255, 255, 255); fill-opacity: 1; white-space: pre;\" transform=\"translate(894.4096875,34.260000000000005)\">52.0</text></g></g></g></g></g><g class=\"overplot\"/><path class=\"xlines-above crisp\" d=\"M0,0\" style=\"fill: none;\"/><path class=\"ylines-above crisp\" d=\"M0,0\" style=\"fill: none;\"/><g class=\"overlines-above\"/><g class=\"xaxislayer-above\"><g class=\"xtick\"><text text-anchor=\"middle\" x=\"0\" y=\"433\" transform=\"translate(200.88,0)\" style=\"font-family: 'Open Sans', verdana, arial, sans-serif; font-size: 12px; fill: rgb(42, 63, 95); fill-opacity: 1; white-space: pre; opacity: 1;\">Hypertension</text></g><g class=\"xtick\"><text text-anchor=\"middle\" x=\"0\" y=\"433\" transform=\"translate(442.63,0)\" style=\"font-family: 'Open Sans', verdana, arial, sans-serif; font-size: 12px; fill: rgb(42, 63, 95); fill-opacity: 1; white-space: pre; opacity: 1;\">None</text></g><g class=\"xtick\"><text text-anchor=\"middle\" x=\"0\" y=\"433\" transform=\"translate(684.38,0)\" style=\"font-family: 'Open Sans', verdana, arial, sans-serif; font-size: 12px; fill: rgb(42, 63, 95); fill-opacity: 1; white-space: pre; opacity: 1;\">Diabets</text></g><g class=\"xtick\"><text text-anchor=\"middle\" x=\"0\" y=\"433\" transform=\"translate(926.13,0)\" style=\"font-family: 'Open Sans', verdana, arial, sans-serif; font-size: 12px; fill: rgb(42, 63, 95); fill-opacity: 1; white-space: pre; opacity: 1;\">Glaucoma in Family</text></g></g><g class=\"yaxislayer-above\"><g class=\"ytick\"><text text-anchor=\"end\" x=\"79\" y=\"4.199999999999999\" transform=\"translate(0,420)\" style=\"font-family: 'Open Sans', verdana, arial, sans-serif; font-size: 12px; fill: rgb(42, 63, 95); fill-opacity: 1; white-space: pre; opacity: 1;\">0</text></g><g class=\"ytick\"><text text-anchor=\"end\" x=\"79\" y=\"4.199999999999999\" style=\"font-family: 'Open Sans', verdana, arial, sans-serif; font-size: 12px; fill: rgb(42, 63, 95); fill-opacity: 1; white-space: pre; opacity: 1;\" transform=\"translate(0,354.23)\">10</text></g><g class=\"ytick\"><text text-anchor=\"end\" x=\"79\" y=\"4.199999999999999\" style=\"font-family: 'Open Sans', verdana, arial, sans-serif; font-size: 12px; fill: rgb(42, 63, 95); fill-opacity: 1; white-space: pre; opacity: 1;\" transform=\"translate(0,288.46000000000004)\">20</text></g><g class=\"ytick\"><text text-anchor=\"end\" x=\"79\" y=\"4.199999999999999\" style=\"font-family: 'Open Sans', verdana, arial, sans-serif; font-size: 12px; fill: rgb(42, 63, 95); fill-opacity: 1; white-space: pre; opacity: 1;\" transform=\"translate(0,222.69)\">30</text></g><g class=\"ytick\"><text text-anchor=\"end\" x=\"79\" y=\"4.199999999999999\" style=\"font-family: 'Open Sans', verdana, arial, sans-serif; font-size: 12px; fill: rgb(42, 63, 95); fill-opacity: 1; white-space: pre; opacity: 1;\" transform=\"translate(0,156.92000000000002)\">40</text></g><g class=\"ytick\"><text text-anchor=\"end\" x=\"79\" y=\"4.199999999999999\" style=\"font-family: 'Open Sans', verdana, arial, sans-serif; font-size: 12px; fill: rgb(42, 63, 95); fill-opacity: 1; white-space: pre; opacity: 1;\" transform=\"translate(0,91.15)\">50</text></g></g><g class=\"overaxes-above\"/></g></g><g class=\"polarlayer\"/><g class=\"smithlayer\"/><g class=\"ternarylayer\"/><g class=\"geolayer\"/><g class=\"funnelarealayer\"/><g class=\"pielayer\"/><g class=\"iciclelayer\"/><g class=\"treemaplayer\"/><g class=\"sunburstlayer\"/><g class=\"glimages\"/><defs id=\"topdefs-3c927a\"><g class=\"clips\"/><clipPath id=\"legend3c927a\"><rect width=\"122\" height=\"67\" x=\"0\" y=\"0\"/></clipPath></defs><g class=\"layer-above\"><g class=\"imagelayer\"/><g class=\"shapelayer\"/></g><g class=\"infolayer\"><g class=\"legend\" pointer-events=\"all\" transform=\"translate(1066.3400000000001,60)\"><rect class=\"bg\" shape-rendering=\"crispEdges\" width=\"122\" height=\"67\" x=\"0\" y=\"0\" style=\"stroke: rgb(68, 68, 68); stroke-opacity: 1; fill: rgb(255, 255, 255); fill-opacity: 1; stroke-width: 0px;\"/><g class=\"scrollbox\" transform=\"\" clip-path=\"url(#legend3c927a)\"><text class=\"legendtitletext\" text-anchor=\"start\" x=\"2\" y=\"18.2\" style=\"font-family: 'Open Sans', verdana, arial, sans-serif; font-size: 14px; fill: rgb(42, 63, 95); fill-opacity: 1; white-space: pre;\">Target</text><g class=\"groups\" transform=\"\"><g class=\"traces\" transform=\"translate(0,32.7)\" style=\"opacity: 1;\"><text class=\"legendtext\" text-anchor=\"start\" x=\"40\" y=\"4.680000000000001\" style=\"font-family: 'Open Sans', verdana, arial, sans-serif; font-size: 12px; fill: rgb(42, 63, 95); fill-opacity: 1; white-space: pre;\">Glaucoma</text><g class=\"layers\" style=\"opacity: 1;\"><g class=\"legendfill\"/><g class=\"legendlines\"/><g class=\"legendsymbols\"><g class=\"legendpoints\"><path class=\"legendundefined\" d=\"M6,6H-6V-6H6Z\" transform=\"translate(20,0)\" style=\"stroke-width: 0px; fill: rgb(27, 158, 119); fill-opacity: 1;\"/></g></g></g><rect class=\"legendtoggle\" x=\"0\" y=\"-9.5\" width=\"116.03125\" height=\"19\" style=\"fill: rgb(0, 0, 0); fill-opacity: 0;\"/></g></g><g class=\"groups\" transform=\"\"><g class=\"traces\" transform=\"translate(0,51.7)\" style=\"opacity: 1;\"><text class=\"legendtext\" text-anchor=\"start\" x=\"40\" y=\"4.680000000000001\" style=\"font-family: 'Open Sans', verdana, arial, sans-serif; font-size: 12px; fill: rgb(42, 63, 95); fill-opacity: 1; white-space: pre;\">No Glaucoma</text><g class=\"layers\" style=\"opacity: 1;\"><g class=\"legendfill\"/><g class=\"legendlines\"/><g class=\"legendsymbols\"><g class=\"legendpoints\"><path class=\"legendundefined\" d=\"M6,6H-6V-6H6Z\" transform=\"translate(20,0)\" style=\"stroke-width: 0px; fill: rgb(217, 95, 2); fill-opacity: 1;\"/></g></g></g><rect class=\"legendtoggle\" x=\"0\" y=\"-9.5\" width=\"116.03125\" height=\"19\" style=\"fill: rgb(0, 0, 0); fill-opacity: 0;\"/></g></g></g><rect class=\"scrollbar\" rx=\"20\" ry=\"3\" width=\"0\" height=\"0\" x=\"0\" y=\"0\" style=\"fill: rgb(128, 139, 164); fill-opacity: 1;\"/></g><g class=\"g-gtitle\"><text class=\"gtitle\" x=\"60\" y=\"30\" text-anchor=\"start\" dy=\"0em\" style=\"font-family: 'Open Sans', verdana, arial, sans-serif; font-size: 17px; fill: rgb(42, 63, 95); opacity: 1; font-weight: normal; white-space: pre;\">Medical History</text></g><g class=\"g-xtitle\"><text class=\"xtitle\" x=\"563.5\" y=\"461.3\" text-anchor=\"middle\" style=\"font-family: 'Open Sans', verdana, arial, sans-serif; font-size: 14px; fill: rgb(42, 63, 95); opacity: 1; font-weight: normal; white-space: pre;\">Medical History</text></g><g class=\"g-ytitle\"><text class=\"ytitle\" transform=\"rotate(-90,39.965625,240)\" x=\"39.965625\" y=\"240\" text-anchor=\"middle\" style=\"font-family: 'Open Sans', verdana, arial, sans-serif; font-size: 14px; fill: rgb(42, 63, 95); opacity: 1; font-weight: normal; white-space: pre;\">%count</text></g></g></svg>"
      ]
     },
     "metadata": {},
     "output_type": "display_data"
    }
   ],
   "source": [
    "fig = px.histogram(data_viz, x='Medical History', color = 'Target',\n",
    "                   width = 1200, height = 500,\n",
    "                   text_auto='.1f', color_discrete_sequence=px.colors.qualitative.Dark2,\n",
    "                   barnorm = 'percent', barmode = 'group')\n",
    "\n",
    "fig.update_layout(title='Medical History', yaxis_title = '%count')\n",
    "\n",
    "fig.write_image('fig.svg', engine='kaleido')\n",
    "fig.show('svg')"
   ]
  },
  {
   "cell_type": "code",
   "execution_count": 135,
   "id": "ab4a1317",
   "metadata": {},
   "outputs": [
    {
     "data": {
      "image/png": "[encoded data removed]"
     },
     "metadata": {},
     "output_type": "display_data"
    }
   ],
   "source": [
    "# Heat map showing correlation of features\n",
    "fig = px.imshow(data.drop('Target', axis = 1).corr().round(2), text_auto=True, aspect=\"auto\", color_continuous_scale='RdBu_r')\n",
    "fig.update_layout(title = 'Correlation Analysis for independent features', height=800, width=1500)\n",
    "fig.write_image('fig.png', engine='kaleido')\n",
    "fig.show('png')"
   ]
  },
  {
   "cell_type": "code",
   "execution_count": 136,
   "id": "8d8a6941",
   "metadata": {},
   "outputs": [
    {
     "data": {
      "text/html": [
       "<div>\n",
       "<style scoped>\n",
       "    .dataframe tbody tr th:only-of-type {\n",
       "        vertical-align: middle;\n",
       "    }\n",
       "\n",
       "    .dataframe tbody tr th {\n",
       "        vertical-align: top;\n",
       "    }\n",
       "\n",
       "    .dataframe thead th {\n",
       "        text-align: right;\n",
       "    }\n",
       "</style>\n",
       "<table border=\"1\" class=\"dataframe\">\n",
       "  <thead>\n",
       "    <tr style=\"text-align: right;\">\n",
       "      <th></th>\n",
       "      <th>Age</th>\n",
       "      <th>Gender</th>\n",
       "      <th>Family History</th>\n",
       "      <th>Medical History</th>\n",
       "      <th>Cataract Status</th>\n",
       "      <th>Nausea</th>\n",
       "      <th>Redness in the eye</th>\n",
       "      <th>Eye pain</th>\n",
       "      <th>Tunnel vision</th>\n",
       "      <th>Halos around lights</th>\n",
       "      <th>Blurred vision</th>\n",
       "      <th>Vomiting</th>\n",
       "      <th>Target</th>\n",
       "    </tr>\n",
       "  </thead>\n",
       "  <tbody>\n",
       "    <tr>\n",
       "      <th>0</th>\n",
       "      <td>65</td>\n",
       "      <td>1</td>\n",
       "      <td>1</td>\n",
       "      <td>2</td>\n",
       "      <td>1</td>\n",
       "      <td>0</td>\n",
       "      <td>0</td>\n",
       "      <td>0</td>\n",
       "      <td>1</td>\n",
       "      <td>1</td>\n",
       "      <td>1</td>\n",
       "      <td>0</td>\n",
       "      <td>1</td>\n",
       "    </tr>\n",
       "    <tr>\n",
       "      <th>1</th>\n",
       "      <td>40</td>\n",
       "      <td>1</td>\n",
       "      <td>1</td>\n",
       "      <td>4</td>\n",
       "      <td>1</td>\n",
       "      <td>1</td>\n",
       "      <td>0</td>\n",
       "      <td>0</td>\n",
       "      <td>0</td>\n",
       "      <td>0</td>\n",
       "      <td>1</td>\n",
       "      <td>1</td>\n",
       "      <td>1</td>\n",
       "    </tr>\n",
       "    <tr>\n",
       "      <th>2</th>\n",
       "      <td>26</td>\n",
       "      <td>1</td>\n",
       "      <td>0</td>\n",
       "      <td>2</td>\n",
       "      <td>0</td>\n",
       "      <td>0</td>\n",
       "      <td>0</td>\n",
       "      <td>0</td>\n",
       "      <td>0</td>\n",
       "      <td>1</td>\n",
       "      <td>1</td>\n",
       "      <td>0</td>\n",
       "      <td>1</td>\n",
       "    </tr>\n",
       "    <tr>\n",
       "      <th>3</th>\n",
       "      <td>83</td>\n",
       "      <td>0</td>\n",
       "      <td>0</td>\n",
       "      <td>4</td>\n",
       "      <td>1</td>\n",
       "      <td>0</td>\n",
       "      <td>1</td>\n",
       "      <td>1</td>\n",
       "      <td>1</td>\n",
       "      <td>1</td>\n",
       "      <td>0</td>\n",
       "      <td>0</td>\n",
       "      <td>1</td>\n",
       "    </tr>\n",
       "    <tr>\n",
       "      <th>4</th>\n",
       "      <td>44</td>\n",
       "      <td>1</td>\n",
       "      <td>1</td>\n",
       "      <td>4</td>\n",
       "      <td>1</td>\n",
       "      <td>0</td>\n",
       "      <td>0</td>\n",
       "      <td>1</td>\n",
       "      <td>1</td>\n",
       "      <td>0</td>\n",
       "      <td>0</td>\n",
       "      <td>0</td>\n",
       "      <td>1</td>\n",
       "    </tr>\n",
       "  </tbody>\n",
       "</table>\n",
       "</div>"
      ],
      "text/plain": [
       "   Age  Gender  Family History  Medical History  Cataract Status  Nausea  \\\n",
       "0   65       1               1                2                1       0   \n",
       "1   40       1               1                4                1       1   \n",
       "2   26       1               0                2                0       0   \n",
       "3   83       0               0                4                1       0   \n",
       "4   44       1               1                4                1       0   \n",
       "\n",
       "   Redness in the eye  Eye pain  Tunnel vision  Halos around lights  \\\n",
       "0                   0         0              1                    1   \n",
       "1                   0         0              0                    0   \n",
       "2                   0         0              0                    1   \n",
       "3                   1         1              1                    1   \n",
       "4                   0         1              1                    0   \n",
       "\n",
       "   Blurred vision  Vomiting  Target  \n",
       "0               1         0       1  \n",
       "1               1         1       1  \n",
       "2               1         0       1  \n",
       "3               0         0       1  \n",
       "4               0         0       1  "
      ]
     },
     "execution_count": 136,
     "metadata": {},
     "output_type": "execute_result"
    }
   ],
   "source": [
    "# Get dummies for Target columns\n",
    "dummies = pd.get_dummies(data['Target'])\n",
    "\n",
    "#Drop all columns except that for Dropout\n",
    "dummies.drop(['No Glaucoma'], axis = 1, inplace= True)\n",
    "data['Target'] = dummies\n",
    "data.head()"
   ]
  },
  {
   "cell_type": "code",
   "execution_count": 137,
   "id": "d81d9d77",
   "metadata": {},
   "outputs": [
    {
     "data": {
      "text/html": [
       "<div>\n",
       "<style scoped>\n",
       "    .dataframe tbody tr th:only-of-type {\n",
       "        vertical-align: middle;\n",
       "    }\n",
       "\n",
       "    .dataframe tbody tr th {\n",
       "        vertical-align: top;\n",
       "    }\n",
       "\n",
       "    .dataframe thead th {\n",
       "        text-align: right;\n",
       "    }\n",
       "</style>\n",
       "<table border=\"1\" class=\"dataframe\">\n",
       "  <thead>\n",
       "    <tr style=\"text-align: right;\">\n",
       "      <th></th>\n",
       "      <th>Age</th>\n",
       "      <th>Gender</th>\n",
       "      <th>Family History</th>\n",
       "      <th>Medical History</th>\n",
       "      <th>Cataract Status</th>\n",
       "      <th>Nausea</th>\n",
       "      <th>Redness in the eye</th>\n",
       "      <th>Eye pain</th>\n",
       "      <th>Tunnel vision</th>\n",
       "      <th>Halos around lights</th>\n",
       "      <th>Blurred vision</th>\n",
       "      <th>Vomiting</th>\n",
       "    </tr>\n",
       "  </thead>\n",
       "  <tbody>\n",
       "    <tr>\n",
       "      <th>0</th>\n",
       "      <td>65</td>\n",
       "      <td>1</td>\n",
       "      <td>1</td>\n",
       "      <td>2</td>\n",
       "      <td>1</td>\n",
       "      <td>0</td>\n",
       "      <td>0</td>\n",
       "      <td>0</td>\n",
       "      <td>1</td>\n",
       "      <td>1</td>\n",
       "      <td>1</td>\n",
       "      <td>0</td>\n",
       "    </tr>\n",
       "    <tr>\n",
       "      <th>1</th>\n",
       "      <td>40</td>\n",
       "      <td>1</td>\n",
       "      <td>1</td>\n",
       "      <td>4</td>\n",
       "      <td>1</td>\n",
       "      <td>1</td>\n",
       "      <td>0</td>\n",
       "      <td>0</td>\n",
       "      <td>0</td>\n",
       "      <td>0</td>\n",
       "      <td>1</td>\n",
       "      <td>1</td>\n",
       "    </tr>\n",
       "    <tr>\n",
       "      <th>2</th>\n",
       "      <td>26</td>\n",
       "      <td>1</td>\n",
       "      <td>0</td>\n",
       "      <td>2</td>\n",
       "      <td>0</td>\n",
       "      <td>0</td>\n",
       "      <td>0</td>\n",
       "      <td>0</td>\n",
       "      <td>0</td>\n",
       "      <td>1</td>\n",
       "      <td>1</td>\n",
       "      <td>0</td>\n",
       "    </tr>\n",
       "    <tr>\n",
       "      <th>3</th>\n",
       "      <td>83</td>\n",
       "      <td>0</td>\n",
       "      <td>0</td>\n",
       "      <td>4</td>\n",
       "      <td>1</td>\n",
       "      <td>0</td>\n",
       "      <td>1</td>\n",
       "      <td>1</td>\n",
       "      <td>1</td>\n",
       "      <td>1</td>\n",
       "      <td>0</td>\n",
       "      <td>0</td>\n",
       "    </tr>\n",
       "    <tr>\n",
       "      <th>4</th>\n",
       "      <td>44</td>\n",
       "      <td>1</td>\n",
       "      <td>1</td>\n",
       "      <td>4</td>\n",
       "      <td>1</td>\n",
       "      <td>0</td>\n",
       "      <td>0</td>\n",
       "      <td>1</td>\n",
       "      <td>1</td>\n",
       "      <td>0</td>\n",
       "      <td>0</td>\n",
       "      <td>0</td>\n",
       "    </tr>\n",
       "  </tbody>\n",
       "</table>\n",
       "</div>"
      ],
      "text/plain": [
       "   Age  Gender  Family History  Medical History  Cataract Status  Nausea  \\\n",
       "0   65       1               1                2                1       0   \n",
       "1   40       1               1                4                1       1   \n",
       "2   26       1               0                2                0       0   \n",
       "3   83       0               0                4                1       0   \n",
       "4   44       1               1                4                1       0   \n",
       "\n",
       "   Redness in the eye  Eye pain  Tunnel vision  Halos around lights  \\\n",
       "0                   0         0              1                    1   \n",
       "1                   0         0              0                    0   \n",
       "2                   0         0              0                    1   \n",
       "3                   1         1              1                    1   \n",
       "4                   0         1              1                    0   \n",
       "\n",
       "   Blurred vision  Vomiting  \n",
       "0               1         0  \n",
       "1               1         1  \n",
       "2               1         0  \n",
       "3               0         0  \n",
       "4               0         0  "
      ]
     },
     "execution_count": 137,
     "metadata": {},
     "output_type": "execute_result"
    }
   ],
   "source": [
    "# Assigning x and y features\n",
    "y = np.array(data['Target'])\n",
    "X_features = data.drop('Target', axis = 1)\n",
    "X_features.head()"
   ]
  },
  {
   "cell_type": "code",
   "execution_count": 138,
   "id": "418152f1",
   "metadata": {},
   "outputs": [
    {
     "data": {
      "text/plain": [
       "array([1, 1, 1, 1, 1], dtype=uint8)"
      ]
     },
     "execution_count": 138,
     "metadata": {},
     "output_type": "execute_result"
    }
   ],
   "source": [
    "y[:5]"
   ]
  },
  {
   "cell_type": "code",
   "execution_count": 139,
   "id": "2e675394",
   "metadata": {},
   "outputs": [
    {
     "data": {
      "text/plain": [
       "array([[ 0.51445444,  0.97280083,  1.03832798, ...,  1.33072662,\n",
       "         1.39061984, -0.71109801],\n",
       "       [-0.66199742,  0.97280083,  1.03832798, ..., -0.75146915,\n",
       "         1.39061984,  1.40627591],\n",
       "       [-1.32081047,  0.97280083, -0.96308682, ...,  1.33072662,\n",
       "         1.39061984, -0.71109801],\n",
       "       ...,\n",
       "       [ 0.51445444,  0.97280083,  1.03832798, ..., -0.75146915,\n",
       "        -0.71910379, -0.71109801],\n",
       "       [ 0.70268674, -1.02795964,  1.03832798, ..., -0.75146915,\n",
       "        -0.71910379, -0.71109801],\n",
       "       [ 1.31444171,  0.97280083,  1.03832798, ..., -0.75146915,\n",
       "        -0.71910379,  1.40627591]])"
      ]
     },
     "execution_count": 139,
     "metadata": {},
     "output_type": "execute_result"
    }
   ],
   "source": [
    "# Normalizing data\n",
    "scaler =  StandardScaler()\n",
    "X = scaler.fit_transform(X_features)\n",
    "X\n"
   ]
  },
  {
   "cell_type": "code",
   "execution_count": 140,
   "id": "cf44e060",
   "metadata": {},
   "outputs": [],
   "source": [
    "# Split data into training and testing sets\n",
    "X_train, X_test, y_train, y_test = train_test_split(X, y, test_size=0.2, random_state=42)"
   ]
  },
  {
   "cell_type": "code",
   "execution_count": 141,
   "id": "52dd386a",
   "metadata": {},
   "outputs": [],
   "source": [
    "# Split data into training and validation sets\n",
    "X_train, X_val, y_train, y_val = train_test_split(X_train, y_train, test_size=0.2, random_state=42)"
   ]
  },
  {
   "cell_type": "code",
   "execution_count": 142,
   "id": "802ea814",
   "metadata": {},
   "outputs": [
    {
     "name": "stdout",
     "output_type": "stream",
     "text": [
      "Unique Values: [0 1]\n",
      "Frequency Values: [200 199]\n",
      "\n",
      "\n",
      "The baseline accuracy to beat is 50.125%\n"
     ]
    }
   ],
   "source": [
    "# Calculate the baseline accuracy to beat\n",
    "target_value, frequency = np.unique(y, return_counts = True)\n",
    "print(\"Unique Values:\", target_value)\n",
    "\n",
    "print(\"Frequency Values:\", frequency)\n",
    "\n",
    "# Maximum frequency value\n",
    "max_val = frequency.max()\n",
    "length_y = len(y)\n",
    "\n",
    "print('\\n')\n",
    "\n",
    "baseline_acc = round((max_val/length_y) * 100, 3)\n",
    "print(f'The baseline accuracy to beat is {baseline_acc}%')"
   ]
  },
  {
   "cell_type": "code",
   "execution_count": 143,
   "id": "11dfbb27",
   "metadata": {},
   "outputs": [],
   "source": [
    "# List of all trained models\n",
    "\n",
    "trained_models = []"
   ]
  },
  {
   "cell_type": "code",
   "execution_count": 144,
   "id": "4abd1784",
   "metadata": {},
   "outputs": [
    {
     "name": "stdout",
     "output_type": "stream",
     "text": [
      "Accuracy of logistic regression model on the training set is 58.4%\n",
      "Accuracy of logistic regression model on the validation set is 60.9%\n",
      "\n",
      "\n",
      "Accuracy of logistic regression model on the test set is 56.00000000000001%\n"
     ]
    }
   ],
   "source": [
    "# Train a logistic regression model\n",
    "lr_model = LogisticRegression(random_state = 42, max_iter= 1000)\n",
    "lr_model.fit(X_train, y_train)\n",
    "\n",
    "\n",
    "# Predict target values for train data\n",
    "y_pred_train = lr_model.predict(X_train)\n",
    "\n",
    "# Predict target values for validation data\n",
    "y_pred_val = lr_model.predict(X_val)\n",
    "\n",
    "# Predict target values for test data\n",
    "y_pred = lr_model.predict(X_test)\n",
    "\n",
    "# Evaluate the model's accuracy\n",
    "lr_acc_train = round(accuracy_score(y_train, y_pred_train), 3)\n",
    "lr_acc_val = round(accuracy_score(y_val, y_pred_val), 3)\n",
    "lr_acc = round(accuracy_score(y_test, y_pred), 2)\n",
    "print(f'Accuracy of logistic regression model on the training set is {lr_acc_train * 100}%')\n",
    "print(f'Accuracy of logistic regression model on the validation set is {lr_acc_val * 100}%')\n",
    "print('\\n')\n",
    "print(f'Accuracy of logistic regression model on the test set is {lr_acc * 100}%')\n",
    "\n",
    "# Add to model list\n",
    "trained_models.append(lr_model)\n"
   ]
  },
  {
   "cell_type": "code",
   "execution_count": 146,
   "id": "d5e009b7",
   "metadata": {},
   "outputs": [
    {
     "data": {
      "image/png": "[encoded data removed]",
      "text/plain": [
       "<Figure size 640x480 with 1 Axes>"
      ]
     },
     "metadata": {},
     "output_type": "display_data"
    },
    {
     "name": "stdout",
     "output_type": "stream",
     "text": [
      "\n",
      "\n",
      "The AUC score is :0.58\n"
     ]
    }
   ],
   "source": [
    "# ROC curve for best model's predictions\n",
    "y_pred = lr_model.predict(X_test)\n",
    "fpr, tpr, threshold = roc_curve(y_test, y_pred)\n",
    "roc_auc = auc(fpr, tpr)\n",
    "\n",
    "# Plot ROC curve\n",
    "plt.figure()\n",
    "plt.plot(fpr, tpr)\n",
    "plt.plot([0, 1], [0, 1],'r--')\n",
    "plt.xlim([0.0, 1.0])\n",
    "plt.ylim([0.0, 1.05])\n",
    "plt.xlabel('False Positive Rate')\n",
    "plt.ylabel('True Positive Rate')\n",
    "plt.title('ROC Curve')\n",
    "plt.show()\n",
    "print('\\n')\n",
    "# Print the AUC score\n",
    "print(f'The AUC score is :{round(roc_auc, 2)}')"
   ]
  },
  {
   "cell_type": "code",
   "execution_count": 149,
   "id": "97f75476",
   "metadata": {},
   "outputs": [
    {
     "name": "stdout",
     "output_type": "stream",
     "text": [
      "Collecting flask\n",
      "  Downloading Flask-2.2.5-py3-none-any.whl (101 kB)\n",
      "     ------------------------------------ 101.8/101.8 kB 587.0 kB/s eta 0:00:00\n",
      "Requirement already satisfied: Werkzeug>=2.2.2 in c:\\users\\dnilu\\anaconda3\\envs\\tensorflow_env\\lib\\site-packages (from flask) (2.2.2)\n",
      "Collecting itsdangerous>=2.0\n",
      "  Downloading itsdangerous-2.1.2-py3-none-any.whl (15 kB)\n",
      "Requirement already satisfied: click>=8.0 in c:\\users\\dnilu\\anaconda3\\envs\\tensorflow_env\\lib\\site-packages (from flask) (8.0.4)\n",
      "Requirement already satisfied: importlib-metadata>=3.6.0 in c:\\users\\dnilu\\anaconda3\\envs\\tensorflow_env\\lib\\site-packages (from flask) (4.11.3)\n",
      "Requirement already satisfied: Jinja2>=3.0 in c:\\users\\dnilu\\anaconda3\\envs\\tensorflow_env\\lib\\site-packages (from flask) (3.1.2)\n",
      "Requirement already satisfied: colorama in c:\\users\\dnilu\\anaconda3\\envs\\tensorflow_env\\lib\\site-packages (from click>=8.0->flask) (0.4.6)\n",
      "Requirement already satisfied: typing-extensions>=3.6.4 in c:\\users\\dnilu\\anaconda3\\envs\\tensorflow_env\\lib\\site-packages (from importlib-metadata>=3.6.0->flask) (4.3.0)\n",
      "Requirement already satisfied: zipp>=0.5 in c:\\users\\dnilu\\anaconda3\\envs\\tensorflow_env\\lib\\site-packages (from importlib-metadata>=3.6.0->flask) (3.11.0)\n",
      "Requirement already satisfied: MarkupSafe>=2.0 in c:\\users\\dnilu\\anaconda3\\envs\\tensorflow_env\\lib\\site-packages (from Jinja2>=3.0->flask) (2.1.1)\n",
      "Installing collected packages: itsdangerous, flask\n",
      "Successfully installed flask-2.2.5 itsdangerous-2.1.2\n",
      "Note: you may need to restart the kernel to use updated packages.\n"
     ]
    }
   ],
   "source": [
    "pip install flask"
   ]
  },
  {
   "cell_type": "code",
   "execution_count": 154,
   "id": "d57474bf",
   "metadata": {},
   "outputs": [
    {
     "data": {
      "text/plain": [
       "['lr_model.pkl']"
      ]
     },
     "execution_count": 154,
     "metadata": {},
     "output_type": "execute_result"
    }
   ],
   "source": [
    "# Save the trained model to a file\n",
    "joblib.dump(lr_model, 'lr_model.pkl')"
   ]
  },
  {
   "cell_type": "code",
   "execution_count": 165,
   "id": "ac42bfee",
   "metadata": {},
   "outputs": [
    {
     "name": "stdout",
     "output_type": "stream",
     "text": [
      " * Serving Flask app '__main__'\n",
      " * Debug mode: on\n"
     ]
    },
    {
     "name": "stderr",
     "output_type": "stream",
     "text": [
      "WARNING: This is a development server. Do not use it in a production deployment. Use a production WSGI server instead.\n",
      " * Running on http://127.0.0.1:5000\n",
      "Press CTRL+C to quit\n",
      " * Restarting with stat\n"
     ]
    },
    {
     "ename": "SystemExit",
     "evalue": "1",
     "output_type": "error",
     "traceback": [
      "An exception has occurred, use %tb to see the full traceback.\n",
      "\u001b[1;31mSystemExit\u001b[0m\u001b[1;31m:\u001b[0m 1\n"
     ]
    }
   ],
   "source": [
    "from flask import Flask, render_template, request\n",
    "import numpy as np\n",
    "import joblib\n",
    "\n",
    "app = Flask(__name__)\n",
    "\n",
    "# Load the trained logistic regression model\n",
    "model = joblib.load('lr_model.pkl')\n",
    "\n",
    "@app.route('/')\n",
    "def index():\n",
    "    return render_template('index.html')\n",
    "\n",
    "@app.route('/predict', methods=['POST'])\n",
    "def predict():\n",
    "    if request.method == 'POST':\n",
    "        # Collect user inputs from the form\n",
    "        age = float(request.form['age'])\n",
    "        gender = int(request.form['gender'])\n",
    "        family_history = int(request.form['family_history'])\n",
    "        medical_history = int(request.form['medical_history'])\n",
    "        visual_symptoms = int(request.form['visual_symptoms'])\n",
    "        nausea = int(request.form['nausea'])\n",
    "        redness_eye = int(request.form['redness_eye'])\n",
    "        eye_pain = int(request.form['eye_pain'])\n",
    "        tunnel_vision = int(request.form['tunnel_vision'])\n",
    "        halos_lights = int(request.form['halos_lights'])\n",
    "        blurred_vision = int(request.form['blurred_vision'])\n",
    "        vomiting = int(request.form['vomiting'])\n",
    "\n",
    "        # Make a prediction using the model\n",
    "        input_data = np.array([[age, gender, family_history, medical_history, visual_symptoms, nausea,\n",
    "                                redness_eye, eye_pain, tunnel_vision, halos_lights, blurred_vision, vomiting]])\n",
    "        prediction = model.predict(input_data)\n",
    "\n",
    "        # Render the prediction result on a new page\n",
    "        return render_template('result.html', prediction=prediction[0])\n",
    "\n",
    "if __name__ == '__main__':\n",
    "    app.run(debug=True)\n",
    "\n"
   ]
  },
  {
   "cell_type": "code",
   "execution_count": null,
   "id": "3a810a39",
   "metadata": {},
   "outputs": [],
   "source": []
  }
 ],
 "metadata": {
  "kernelspec": {
   "display_name": "Python 3 (ipykernel)",
   "language": "python",
   "name": "python3"
  },
  "language_info": {
   "codemirror_mode": {
    "name": "ipython",
    "version": 3
   },
   "file_extension": ".py",
   "mimetype": "text/x-python",
   "name": "python",
   "nbconvert_exporter": "python",
   "pygments_lexer": "ipython3",
   "version": "3.7.16"
  }
 },
 "nbformat": 4,
 "nbformat_minor": 5
}
